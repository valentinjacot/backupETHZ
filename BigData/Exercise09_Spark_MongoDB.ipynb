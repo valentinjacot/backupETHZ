{
    "cells": [
        {
            "cell_type": "markdown",
            "metadata": {},
            "source": [
                "# <center>Big Data for Engineers &ndash; Exercises</center>\n",
                "## <center>Spring 2019 &ndash; Week 9 &ndash; ETH Zurich</center>\n",
                "## <center>Spark + MongoDB</center>"
            ]
        },
        {
            "cell_type": "markdown",
            "metadata": {},
            "source": [
                "# 1. Spark DataFrames + SQL\n"
            ]
        },
        {
            "cell_type": "markdown",
            "metadata": {},
            "source": [
                "## 1.1 Setup the Spark cluster on Azure\n",
                "\n",
                "### Create a cluster\n",
                "\n",
                "- Sign into the azure portal (portal.azure.com).\n",
                "- Search for \"HDInsight clusters\" using the search box at the top.\n",
                "- Click on \"+ Add\".\n",
                "- Give the cluster a unique name.\n",
                "- In the \"Select Cluster Type\" choose **Spark** and a standard Cluster Tier (Finish with pressing \"select\").\n",
                "- In step 2, the container name will be filled in for you automatically. If you want to do the exercise sheet in several sittings, change it to something you can remember or write it down.\n",
                "- Set up a Spark cluster with default configuration. It should cost something around 3.68 sFR/h.\n",
                "- Wait for 20 mins so that your cluster is ready.\n",
                "\n",
                "**Important**\n",
                "\n",
                "Remember to **delete** the cluster once you are done. If you want to stop doing the exercises at any point, delete it and recreate it using the same container name as you used the first time, so that the resources are still there.\n",
                "\n",
                "![](https://bigdataforeng.blob.core.windows.net/ex08/create_cluster.png)\n",
                "\n",
                "### Access your cluster\n",
                "\n",
                "Make sure you can access your cluster (the NameNode) via SSH:\n",
                "\n",
                "```\n",
                "$ ssh <ssh_user_name>@<cluster_name>-ssh.azurehdinsight.net\n",
                "```\n",
                "\n",
                "If you are using Linux or MacOSX, you can use your standard terminal.\n",
                "If you are using Windows you can use:\n",
                "- Putty SSH Client and PSCP tool (get them at [here](http://www.chiark.greenend.org.uk/~sgtatham/putty/download.html)).\n",
                "- This Notebook server terminal (Click on the Jupyter logo and the goto New -> Terminal).\n",
                "- Azure Cloud Terminal (see the HBase exercise sheet for details)\n",
                "\n",
                "\n",
                "The cluster has its own Jupyter server. We will use it. You can access it through the following link:\n",
                "```\n",
                " https://<cluster_name>.azurehdinsight.net/jupyter\n",
                "```\n",
                "\n",
                "You can access cluster's YARN in your browser\n",
                "```\n",
                " https://<cluster_name>.azurehdinsight.net/yarnui/hn/cluster\n",
                "```\n",
                "\n",
                "The Spark UI can be accessed via Azure Portal, see [Spark job debugging](https://docs.microsoft.com/en-us/azure/hdinsight/hdinsight-apache-spark-job-debugging)\n",
                "\n",
                "# <span style=\"color:red\">You need to upload this notebook to your cluster's Jupyter in order to execute Python code blocks.</span>\n",
                "\n",
                "\n",
                "To do this, just open the Jupyter through the link given above and use the \"Upload\" button.\n",
                "\n",
                "![](https://bigdataforeng.blob.core.windows.net/ex08/jupyter.png)"
            ]
        },
        {
            "cell_type": "markdown",
            "metadata": {
                "cell_status": {
                    "execute_time": {
                        "duration": 44.55712890625,
                        "end_time": 1557044256642.663
                    }
                },
                "collapsed": true
            },
            "source": [
                "### 1.2. The Great Language Game\n",
                "\n",
                "This week you will be using again the [language confusion dataset](http://lars.yencken.org/datasets/languagegame/). You will write queries with Spark DataFrames and SQL. You will have to submit the results of this exercise to Moodle to obtain the weekly bonus. You will need three things:\n",
                "- The query you wrote\n",
                "- Something related to its output (which you will be graded on)\n",
                "- The time it took you to write it\n",
                "- The time it took you to run it\n",
                "\n",
                "As you might have observed in the sample queries above, the time a job took to run is displayed on the rightmost column of its ouptut. If it consists of several stages, however, you will need the sum of them. The easiest thing is if you just take the execution time of the whole query:\n",
                "\n",
                "![](https://bigdataforeng.blob.core.windows.net/ex08/execution_time.png)\n",
                "\n",
                "Of course, you will not be evaluated on the time it took you to write the queries (nor on the time it took them to run), but this is useful to us in order to measure the increase in performance when using Sparksoniq. There is a cell that outputs the time you started working before every query. Use this if you find it useful.\n",
                "\n",
                "\n",
                "***For this exercise, we strongly suggest that you use the Azure cluster as described above.***\n",
                "\n",
                "Log in to your cluster using SSH as explained above and run the following commands:\n",
                "\n",
                "```\n",
                "wget http://data.greatlanguagegame.com.s3.amazonaws.com/confusion-2014-03-02.tbz2\n",
                "tar -jxvf confusion-2014-03-02.tbz2 -C /tmp\n",
                "hdfs dfs -copyFromLocal /tmp/confusion-2014-03-02/confusion-2014-03-02.json /confusion.json\n",
                "```\n",
                "\n",
                "This dowloads the archive file to the cluster, decompresses it and uploads it to HDFS when using a cluster. Now, create an RDD from the file containing the entries:"
            ]
        },
        {
            "cell_type": "code",
            "execution_count": null,
            "metadata": {
                "cell_status": {
                    "execute_time": {
                        "duration": 258.121826171875,
                        "end_time": 1557235032008.581
                    }
                }
            },
            "outputs": [],
            "source": [
                "data = sc.textFile('wasb:///confusion.json')"
            ]
        },
        {
            "cell_type": "markdown",
            "metadata": {},
            "source": [
                "Last week you loaded the json data with the following snippet:"
            ]
        },
        {
            "cell_type": "code",
            "execution_count": null,
            "metadata": {
                "cell_status": {
                    "execute_time": {
                        "duration": 243.537109375,
                        "end_time": 1557235032261.665
                    }
                }
            },
            "outputs": [],
            "source": [
                "import json\n",
                "entries = data.map(json.loads)\n",
                "type(entries)"
            ]
        },
        {
            "cell_type": "markdown",
            "metadata": {},
            "source": [
                "This week you will use DataFrames:"
            ]
        },
        {
            "cell_type": "code",
            "execution_count": null,
            "metadata": {
                "cell_status": {
                    "execute_time": {
                        "duration": 33443.845947265625,
                        "end_time": 1557235065715.409
                    }
                },
                "scrolled": true
            },
            "outputs": [],
            "source": [
                "entries_df = spark.read.json(data).cache()\n",
                "type(entries_df)"
            ]
        },
        {
            "cell_type": "markdown",
            "metadata": {},
            "source": [
                "You can check the schema by executing the following code:"
            ]
        },
        {
            "cell_type": "code",
            "execution_count": null,
            "metadata": {},
            "outputs": [],
            "source": [
                "entries_df.printSchema()"
            ]
        },
        {
            "cell_type": "markdown",
            "metadata": {},
            "source": [
                "You can place the data to a *temporary* table with the following code:"
            ]
        },
        {
            "cell_type": "code",
            "execution_count": null,
            "metadata": {},
            "outputs": [],
            "source": [
                "entries_df.registerTempTable(\"entries\")"
            ]
        },
        {
            "cell_type": "markdown",
            "metadata": {},
            "source": [
                "Now, you can use normal SQL, with sql magic (%%sql), to perform queries on the table **entries**. For example:"
            ]
        },
        {
            "cell_type": "code",
            "execution_count": null,
            "metadata": {},
            "outputs": [],
            "source": [
                "%%sql\n",
                "SELECT *\n",
                "FROM entries\n",
                "WHERE country == \"CH\""
            ]
        },
        {
            "cell_type": "markdown",
            "metadata": {},
            "source": [
                "Good! Let's get to work. A few last things:\n",
                "- This week, you should not have issues with the output being too long, since sql magic limits its size automatically.\n",
                "- Remember to delete the cluster if you want to stop working! You can recreate it using the same container name and your resources will still be there.\n",
                "\n",
                "And now to the actual queries:\n",
                "\n",
                "1\\. Find all games such that the guessed language is correct (=target), and such that this language is Russian."
            ]
        },
        {
            "cell_type": "code",
            "execution_count": null,
            "metadata": {
                "cell_status": {
                    "execute_time": {
                        "duration": 45.610107421875,
                        "end_time": 1557168324268.003
                    }
                }
            },
            "outputs": [],
            "source": [
                "from datetime import datetime\n",
                "\n",
                "# Started working:\n",
                "print(datetime.now().time())"
            ]
        },
        {
            "cell_type": "code",
            "execution_count": null,
            "metadata": {
                "cell_status": {
                    "execute_time": {
                        "duration": 21398.401123046875,
                        "end_time": 1557212587338.105
                    }
                }
            },
            "outputs": [],
            "source": [
                "%%sql\n"
            ]
        },
        {
            "cell_type": "markdown",
            "metadata": {},
            "source": [
                "2\\. List all chosen answers to games where the guessed language is correct (=target)."
            ]
        },
        {
            "cell_type": "code",
            "execution_count": null,
            "metadata": {
                "cell_status": {
                    "execute_time": {
                        "duration": 44.7001953125,
                        "end_time": 1557146675103.553
                    }
                }
            },
            "outputs": [],
            "source": [
                "# Started working:\n",
                "print(datetime.now().time())"
            ]
        },
        {
            "cell_type": "code",
            "execution_count": null,
            "metadata": {
                "cell_status": {
                    "execute_time": {
                        "duration": 752.509033203125,
                        "end_time": 1557234001018.501
                    }
                }
            },
            "outputs": [],
            "source": [
                "%%sql\n"
            ]
        },
        {
            "cell_type": "markdown",
            "metadata": {},
            "source": [
                "3\\. Find all distinct values of languages (the target field)."
            ]
        },
        {
            "cell_type": "code",
            "execution_count": null,
            "metadata": {
                "cell_status": {
                    "execute_time": {
                        "duration": 44.7001953125,
                        "end_time": 1557146675103.553
                    }
                }
            },
            "outputs": [],
            "source": [
                "# Started working:\n",
                "print(datetime.now().time())"
            ]
        },
        {
            "cell_type": "code",
            "execution_count": null,
            "metadata": {
                "cell_status": {
                    "execute_time": {
                        "duration": 17337.39599609375,
                        "end_time": 1557230774662.657
                    }
                }
            },
            "outputs": [],
            "source": [
                "%%sql\n"
            ]
        },
        {
            "cell_type": "markdown",
            "metadata": {},
            "source": [
                "4\\. Return the top three games where the guessed language is correct (=target) ordered by language (ascending), then country (ascending), then date (ascending)."
            ]
        },
        {
            "cell_type": "code",
            "execution_count": null,
            "metadata": {
                "cell_status": {
                    "execute_time": {
                        "duration": 44.7001953125,
                        "end_time": 1557146675103.553
                    }
                }
            },
            "outputs": [],
            "source": [
                "# Started working:\n",
                "print(datetime.now().time())"
            ]
        },
        {
            "cell_type": "code",
            "execution_count": null,
            "metadata": {
                "cell_status": {
                    "execute_time": {
                        "duration": 222241.63500976562,
                        "end_time": 1557387411306.792
                    }
                }
            },
            "outputs": [],
            "source": [
                "%%sql\n"
            ]
        },
        {
            "cell_type": "markdown",
            "metadata": {},
            "source": [
                "5\\. Aggregate all games by country and target language, counting the number of guesses for each pair (country, target)."
            ]
        },
        {
            "cell_type": "code",
            "execution_count": null,
            "metadata": {
                "cell_status": {
                    "execute_time": {
                        "duration": 44.7001953125,
                        "end_time": 1557146675103.553
                    }
                }
            },
            "outputs": [],
            "source": [
                "# Started working:\n",
                "print(datetime.now().time())"
            ]
        },
        {
            "cell_type": "code",
            "execution_count": null,
            "metadata": {
                "cell_status": {
                    "execute_time": {
                        "duration": 39579.559814453125,
                        "end_time": 1557387951481.842
                    }
                }
            },
            "outputs": [],
            "source": [
                "%%sql\n"
            ]
        },
        {
            "cell_type": "markdown",
            "metadata": {},
            "source": [
                "6\\. Find the overall percentage of correct guesses when the first answer (amongst the array of possible answers) was the correct one."
            ]
        },
        {
            "cell_type": "code",
            "execution_count": null,
            "metadata": {
                "cell_status": {
                    "execute_time": {
                        "duration": 44.7001953125,
                        "end_time": 1557146675103.553
                    }
                }
            },
            "outputs": [],
            "source": [
                "# Started working:\n",
                "print(datetime.now().time())"
            ]
        },
        {
            "cell_type": "code",
            "execution_count": null,
            "metadata": {
                "cell_status": {
                    "execute_time": {
                        "duration": 27601.31787109375,
                        "end_time": 1557171455208.987
                    }
                }
            },
            "outputs": [],
            "source": [
                "%%sql\n"
            ]
        },
        {
            "cell_type": "markdown",
            "metadata": {},
            "source": [
                "7\\. Sort the languages by increasing overall percentage of correct guesses."
            ]
        },
        {
            "cell_type": "code",
            "execution_count": null,
            "metadata": {
                "cell_status": {
                    "execute_time": {
                        "duration": 44.7001953125,
                        "end_time": 1557146675103.553
                    }
                }
            },
            "outputs": [],
            "source": [
                "# Started working:\n",
                "print(datetime.now().time())"
            ]
        },
        {
            "cell_type": "code",
            "execution_count": null,
            "metadata": {
                "cell_status": {
                    "execute_time": {
                        "duration": 55527.44091796875,
                        "end_time": 1557229508578.007
                    }
                }
            },
            "outputs": [],
            "source": [
                "%%sql\n"
            ]
        },
        {
            "cell_type": "markdown",
            "metadata": {},
            "source": [
                "8\\. Group the games by the index of the correct answer in the choices array and output all counts.\n",
                "\n",
                "The following code snippet will create a user-defined SQL function, which you can use in your SQL queries.  \n",
                "You may call it in your queries as `array_position(x, y)`, where `x` is an array (for example an entry for the column `choices`) and `y` is some data that the position/index of which you want to find in the array."
            ]
        },
        {
            "cell_type": "code",
            "execution_count": null,
            "metadata": {},
            "outputs": [],
            "source": [
                "spark.udf.register(\"array_position\", lambda x,y: x.index(y))"
            ]
        },
        {
            "cell_type": "code",
            "execution_count": null,
            "metadata": {
                "cell_status": {
                    "execute_time": {
                        "duration": 44.7001953125,
                        "end_time": 1557146675103.553
                    }
                }
            },
            "outputs": [],
            "source": [
                "# Started working:\n",
                "print(datetime.now().time())"
            ]
        },
        {
            "cell_type": "code",
            "execution_count": null,
            "metadata": {
                "cell_status": {
                    "execute_time": {
                        "duration": 13343.739013671875,
                        "end_time": 1557224627704.526
                    }
                }
            },
            "outputs": [],
            "source": [
                "%%sql\n"
            ]
        },
        {
            "cell_type": "markdown",
            "metadata": {},
            "source": [
                "9\\. What is the language of the sample that has the highest successful guess rate?"
            ]
        },
        {
            "cell_type": "code",
            "execution_count": null,
            "metadata": {
                "cell_status": {
                    "execute_time": {
                        "duration": 44.7001953125,
                        "end_time": 1557146675103.553
                    }
                }
            },
            "outputs": [],
            "source": [
                "# Started working:\n",
                "print(datetime.now().time())"
            ]
        },
        {
            "cell_type": "code",
            "execution_count": null,
            "metadata": {
                "cell_status": {
                    "execute_time": {
                        "duration": 19340.81201171875,
                        "end_time": 1557220260002.04
                    }
                }
            },
            "outputs": [],
            "source": [
                "%%sql\n"
            ]
        },
        {
            "cell_type": "markdown",
            "metadata": {},
            "source": [
                "10\\. Return all games played on the latest day."
            ]
        },
        {
            "cell_type": "code",
            "execution_count": null,
            "metadata": {
                "cell_status": {
                    "execute_time": {
                        "duration": 44.7001953125,
                        "end_time": 1557146675103.553
                    }
                }
            },
            "outputs": [],
            "source": [
                "# Started working:\n",
                "print(datetime.now().time())"
            ]
        },
        {
            "cell_type": "code",
            "execution_count": null,
            "metadata": {
                "cell_status": {
                    "execute_time": {
                        "duration": 433204.9020996094,
                        "end_time": 1557221766692.589
                    }
                },
                "scrolled": false
            },
            "outputs": [],
            "source": [
                "%%sql\n"
            ]
        },
        {
            "cell_type": "markdown",
            "metadata": {},
            "source": [
                "## 2. Document stores\n",
                "\n",
                "A record in document store is a *document*. Document encoding schemes include XML, YAML, JSON, and BSON, as well as binary forms like PDF and Microsoft Office documents (MS Word, Excel, and so on). MongoDB documents are similar to JSON objects.  Documents are composed of field-value pairs and have the following structure:\n",
                "\n",
                "![123](https://docs.mongodb.com/manual/_images/crud-annotated-mongodb-insertOne.bakedsvg.svg)\n",
                "\n",
                "The values of fields may include other documents, arrays, and arrays of documents. Data in MongoDB has a flexible schema in the same collection. All documents do not need to have the same set of fields or structure, and common fields in a collection's documents may hold different types of data.\n",
                "\n"
            ]
        },
        {
            "cell_type": "markdown",
            "metadata": {},
            "source": [
                "### 2.1 General Questions\n",
                "1. What are advantages of document stores over relational databases?\n",
                "2. Can the data in document stores be normalized? \n",
                "3. How does denormalization affect performance? "
            ]
        },
        {
            "cell_type": "markdown",
            "metadata": {},
            "source": [
                "### 2.2 True/False Questions\n",
                "Say if the following statements are *true* or *false*.\n",
                "\n",
                "1. Document stores expose only a key-value interface.\n",
                "2. Different relationships between data can be represented by references and embedded documents.\n",
                "3. MongoDB does not support schema validation.\n",
                "4. MongoDB stores documents in the XML format. \n",
                "5. In document stores, you must determine and declare a table's schema before inserting data. \n",
                "6. MongoDB performance degrades when the number of documents increases. \n",
                "7. Document stores are column stores with flexible schema.\n",
                "8. There are no joins in MongoDB."
            ]
        },
        {
            "cell_type": "markdown",
            "metadata": {},
            "source": [
                "## 3. MongoDB"
            ]
        },
        {
            "cell_type": "markdown",
            "metadata": {},
            "source": [
                "### 3.1 Setup MongoDB\n",
                "\n",
                "- Navigate to https://www.mongodb.com/download-center and register:\n",
                "![](https://bigdataforeng.blob.core.windows.net/ex09/register.png)\n",
                "\n",
                "- Create a free-tier cluster. You are free to use any cloud provider and region of your preference. For example, you could choose AWS and Frankfurt:\n",
                "![](https://bigdataforeng.blob.core.windows.net/ex09/create_cluster.png)\n",
                "\n",
                "- Create a database user:\n",
                "![](https://bigdataforeng.blob.core.windows.net/ex09/create_user.png)\n",
                "\n",
                "- Whitelist your IP address (or all IP addresses if using the Azure notebook service):\n",
                "![](https://bigdataforeng.blob.core.windows.net/ex09/create_whitelist.png)\n",
                "\n",
                "- Create a `test` database with a `restaurants` collection:\n",
                "![](https://bigdataforeng.blob.core.windows.net/ex09/collections1.png)\n",
                "![](https://bigdataforeng.blob.core.windows.net/ex09/collections2.png)\n"
            ]
        },
        {
            "cell_type": "markdown",
            "metadata": {},
            "source": [
                "- Install pymongo and dnspython:"
            ]
        },
        {
            "cell_type": "code",
            "execution_count": null,
            "metadata": {},
            "outputs": [],
            "source": [
                "!pip install pymongo[tls]\n",
                "!pip install dnspython\n"
            ]
        },
        {
            "cell_type": "markdown",
            "metadata": {},
            "source": [
                "- To connect to the database, copy the connection string for your version of python by navigating on the MongoDB website, as show in the following pictures:\n",
                "![](https://bigdataforeng.blob.core.windows.net/ex09/connect1.png)\n",
                "![](https://bigdataforeng.blob.core.windows.net/ex09/connect2.png)\n",
                "![](https://bigdataforeng.blob.core.windows.net/ex09/connect3.png)\n",
                "![](https://bigdataforeng.blob.core.windows.net/ex09/connect4.png)"
            ]
        },
        {
            "cell_type": "code",
            "execution_count": null,
            "metadata": {},
            "outputs": [],
            "source": [
                "import pymongo\n",
                "import dns\n",
                "from pprint import pprint\n",
                "import urllib\n",
                "import json\n",
                "import dateutil\n",
                "from datetime import datetime, timezone, timedelta"
            ]
        },
        {
            "cell_type": "markdown",
            "metadata": {},
            "source": [
                "If you get an error when importing one of the modules above, then try:  \n",
                "```!pip install <module_name>```"
            ]
        },
        {
            "cell_type": "code",
            "execution_count": null,
            "metadata": {},
            "outputs": [],
            "source": [
                "client = pymongo.MongoClient(\"mongodb+srv://<username>:<password>@<cluster_address>/test?retryWrites=true\")\n",
                "db = client.test\n"
            ]
        },
        {
            "cell_type": "markdown",
            "metadata": {},
            "source": [
                "- Import the `restaurants` dataset:"
            ]
        },
        {
            "cell_type": "code",
            "execution_count": null,
            "metadata": {},
            "outputs": [],
            "source": [
                "file = urllib.request.urlopen(\"https://raw.githubusercontent.com/mongodb/docs-assets/primer-dataset/primer-dataset.json\") \n",
                "file_data = []\n",
                "\n",
                "for line in file:\n",
                "    record = json.loads(line)\n",
                "    grades = record['grades']\n",
                "    new_grades = []\n",
                "    for g in grades:\n",
                "        new_g = {}\n",
                "        for k, v in g.items():\n",
                "            if k == 'date':\n",
                "                new_g['date'] = datetime(1970, 1, 1, tzinfo=timezone.utc) + timedelta(milliseconds=v['$date'])\n",
                "            else:\n",
                "                new_g[k] = v\n",
                "        new_grades.append(new_g)\n",
                "    record['grades'] = new_grades\n",
                "    file_data.append(record)\n",
                "\n",
                "db.restaurants.insert_many(file_data)\n"
            ]
        },
        {
            "cell_type": "markdown",
            "metadata": {},
            "source": [
                "- Try to insert a document into the ```restaurants``` collection. In addition, you can see the structure of documents the in the collection:"
            ]
        },
        {
            "cell_type": "code",
            "execution_count": null,
            "metadata": {},
            "outputs": [],
            "source": [
                "db.restaurants.insert_one(\n",
                "   {\n",
                "      \"address\" : {\n",
                "         \"street\" : \"2 Avenue\",\n",
                "         \"zipcode\" : \"10075\",\n",
                "         \"building\" : \"1480\",\n",
                "         \"coord\" : [ -73.9557413, 40.7720266 ]\n",
                "      },\n",
                "      \"borough\" : \"Manhattan\",\n",
                "      \"cuisine\" : \"Italian\",\n",
                "      \"grades\" : [\n",
                "         {\n",
                "            \"date\" : dateutil.parser.parse(\"2014-10-01T00:00:00Z\"),\n",
                "            \"grade\" : \"A\",\n",
                "            \"score\" : 11\n",
                "         },\n",
                "         {\n",
                "            \"date\" : dateutil.parser.parse(\"2014-01-16T00:00:00Z\"),\n",
                "            \"grade\" : \"A\",\n",
                "            \"score\" : 17\n",
                "         }\n",
                "      ],\n",
                "      \"name\" : \"Vella\",\n",
                "      \"restaurant_id\" : \"41704620\"\n",
                "   }\n",
                ")"
            ]
        },
        {
            "cell_type": "markdown",
            "metadata": {},
            "source": [
                "Query all documents in a collection:\n",
                "```json\n",
                "db.restaurants.find()\n",
                "```\n",
                "\n",
                "Query one document in a collection:\n",
                "```json\n",
                "db.restaurants.find_one()\n",
                "```\n",
                "\n",
                "To format the result, you can use ```pprint```, as in the following:\n",
                "\n",
                "```json\n",
                "for doc in db.restaurants.find().limit(3):\n",
                "    pprint(doc)\n",
                "```"
            ]
        },
        {
            "cell_type": "markdown",
            "metadata": {},
            "source": [
                "### Query Documents\n",
                "For the ```db.collection.find()``` method, you can specify the following optional fields:\n",
                "- a query filter to specify which documents to return,\n",
                "- a query projection to specifies which fields from the matching documents to return (the projection limits the amount of data that MongoDB returns to the client over the network),\n",
                "- optionally, a cursor modifier to impose limits, skips, and sort orders.\n",
                "\n"
            ]
        },
        {
            "cell_type": "markdown",
            "metadata": {},
            "source": [
                "###  3.4 Questions\n",
                "Write queries in MongoDB that return the following:\n",
                "\n",
                "1. All restaurants in borough (a town) \"Brooklyn\" and cuisine (a style of cooking) \"Hamburgers\".\n",
                "2. The number of restaurants in the borough \"Brooklyn\" and cuisine \"Hamburgers\".\n",
                "3. All restaurants with zipcode 11225.\n",
                "4. Names of restaurants with zipcode 11225 that have at least one grade \"C\".\n",
                "5. Names of restaurants with zipcode 11225 that have as first grade \"C\" and as second grade \"A\".\n",
                "6. Names and streets of restaurants that don't have an \"A\" grade.\n",
                "7. All restaurants with a grade C and a score greater than 50.\n",
                "8. All restaurants with a grade C or a score greater than 50.\n",
                "9. All restaurants that have only A grades.\n",
                "\n",
                "You can read more about MongoDB here: \n",
                "\n",
                "https://docs.mongodb.com/getting-started/shell/query/\n"
            ]
        },
        {
            "cell_type": "markdown",
            "metadata": {},
            "source": [
                "## 4. Indexing in MongoDB\n",
                "\n",
                "Indexes support the efficient resolution of queries. Without indexes, MongoDB must scan every document of a collection to select those documents that match the query statement. Scans can be highly inefficient and require MongoDB to process a large volume of data.\n",
                "\n",
                "Indexes are special data structures that store a small portion of the data set in an easy-to-traverse form. The index stores the value of a specific field or set of fields, ordered by the value of the field as specified in the index.\n",
                "\n",
                "MongoDB supports indexes that contain either a single field or multiple fields depending on the operations that this index type supports. \n",
                "\n",
                "By default,  MongoDB creates the ```_id``` index, which is an ascending unique index on the ```_id``` field, for all collections when the collection is created. You cannot remove the index on the ```_id``` field."
            ]
        },
        {
            "cell_type": "markdown",
            "metadata": {},
            "source": [
                "### Managing indexes in MongoDB\n",
                "\n",
                "An ```explain()``` operator provides information on the query plan. It returns a document that describes the process and indexes used to return the query. This may provide useful insight when attempting to optimize a query.\n",
                "\n",
                "```json\n",
                "db.restaurants.find({\"borough\" : \"Brooklyn\"}).explain()\n",
                "```\n",
                "\n",
                "You can create an index by calling the ```createIndex()``` method.  \n",
                "\n",
                "```json\n",
                "db.restaurants.create_index([(\"borough\", 1)])\n",
                "```\n",
                "\n",
                "Now, you retrieve a new query plan for indexed data.\n",
                "```json\n",
                "db.restaurants.find({\"borough\" : \"Brooklyn\"}).explain()\n",
                "```\n",
                "The value of the field in the index specification describes the kind of index for that field. For example, a value of 1 specifies an index that orders items in ascending order. A value of -1 specifies an index that orders items in descending order.\n",
                "\n",
                "To remove all indexes, you can use ```db.collection.drop_indexes()```. To remove a specific index you can use ```db.collection.drop_index()```, such as ```db.restaurants.drop_index([(\"borough\", 1)])```.\n",
                "\n"
            ]
        },
        {
            "cell_type": "markdown",
            "metadata": {},
            "source": [
                "### 4.1 Questions\n",
                "\n",
                "**Please answer questions 1 and 2 in Moodle**\n",
                " \n",
                "1) Which queries will use the following index: \n",
                "```json\n",
                "db.restaurants.create_index([(\"borough\", 1)])\n",
                "```\n",
                "\n",
                "A.  ```db.restaurants.find({\"addresses.city\" : \"Boston\"})```  \n",
                "B.  ```db.restaurants.find({}, {\"borough\" : 1})```  \n",
                "C.  ```db.restaurants.find().sort([(\"borough\", 1)])```  \n",
                "D.  ```db.restaurants.find({\"cuisine\" : \"Italian\" }, {\"borough\" : 1})```  \n",
                "\n",
                "2) Which queries will use the following index: \n",
                "```json\n",
                "db.restaurants.create_index([(\"address\", -1)])\n",
                "```\n",
                "\n",
                "A.  ```db.restaurants.find({\"address.zipcode\" : \"11225\"})```   \n",
                "B.  ```db.restaurants.find({\"addresses.city\" : \"Boston\"})```    \n",
                "C.  ```db.restaurants.find({\"addresses.city\" : \"Boston\"}, {\"address\" : 1 })```    \n",
                "D.  ```db.restaurants.find({\"address\" : 1 })```     \n",
                "\n",
                "\n",
                "3) Write a command for creating an index on the \"zipcode\" field.\n",
                "\n",
                "\n",
                "4) Write an index to speed up the following query:\n",
                "```json\n",
                "    db.restaurants.find({\"grades.grade\" : { \"$ne\" : \"A\"}}, {\"name\" : 1 , \"address.street\": 1})\n",
                "```\n",
                "\n",
                "5) Write an index to speed up the following query:\n",
                "```json\n",
                "    db.restaurants.find({\"grades.score\" : {\"$gt\" : 50}, \"grades.grade\" : \"C\"})\n",
                "```\n",
                "\n",
                "     \n"
            ]
        },
        {
            "cell_type": "code",
            "execution_count": null,
            "metadata": {},
            "outputs": [],
            "source": []
        }
    ],
    "metadata": {
        "anaconda-cloud": {},
        "kernelspec": {
            "display_name": "Python 3",
            "language": "python",
            "name": "python3"
        },
        "language_info": {
            "codemirror_mode": {
                "name": "ipython",
                "version": 3
            },
            "file_extension": ".py",
            "mimetype": "text/x-python",
            "name": "python",
            "nbconvert_exporter": "python",
            "pygments_lexer": "ipython3",
            "version": "3.7.3"
        }
    },
    "nbformat": 4,
    "nbformat_minor": 1
}
