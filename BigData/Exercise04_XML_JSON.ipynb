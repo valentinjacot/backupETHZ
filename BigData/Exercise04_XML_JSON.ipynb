{
    "cells": [
        {
            "cell_type": "markdown",
            "metadata": {
                "collapsed": true
            },
            "source": [
                "# <center>Big Data &ndash; Exercises &amp; Solutions</center>\n",
                "## <center>Spring 2019 &ndash; Week 4 &ndash; ETH Zurich</center>\n",
                "\n",
                "## Introduction\n",
                "This exercise will cover XML and JSON well-formedness.\n",
                "\n",
                "We recommend you use an online editor to validate and check your solutions for well-formedness, such as [this](https://www.xmlvalidation.com/) for XML and [this](https://jsonlint.com/) for JSON. To edit XML files, something like [this](https://www.webtoolkitonline.com/xml-formatter.html) might work better, which offers syntax highlighting and formatting.  \n",
                "If you prefer, you can instead install [oXygen](https://www.oxygenxml.com/xml_editor/software_archive_editor.html), an XML/JSON development IDE. You should have received a license key for it by email.\n"
            ]
        },
        {
            "cell_type": "markdown",
            "metadata": {},
            "source": [
                "## 1 XML\n",
                "\n",
                "\n",
                "### 1.1 Well-formedness\n",
                "\n",
                "For each of the following XML documents, say if it is well-formed or not; if not, then also correct the errors.\n",
                "An online editor may help with these tasks, but first try to solve them without software support.\n",
                "\n",
                "#### Document 1\n",
                "```\n",
                "<Burger>\n",
                "    <Bun>\n",
                "        <Pickles/>\n",
                "        <Cheese/>\n",
                "        <Patty/>\n",
                "    </Bun>\n",
                "</Burger>\n",
                "```\n",
                "\n",
                "#### Document 2\n",
                "```\n",
                "<Burger>\n",
                "    <Bun>\n",
                "        <Pickles/>\n",
                "        <Cheese/>\n",
                "        <Patty/>\n",
                "    </Bun>\n",
                "</Burger>\n",
                "<Cola>\n",
                "    <Sugar/>\n",
                "    <Water/>\n",
                "</Cola>\n",
                "<Fries kind=\"French\"/>\n",
                "```\n",
                "\n",
                "#### Document 3\n",
                "```\n",
                "<Email>\n",
                "    Dear Mr. John Doe,\n",
                "\n",
                "    I hereby kindly request you to revise the attached draft \n",
                "    of the merger contract and provide me with any feedback you may have.\n",
                "\n",
                "    Best regards,\n",
                "    Jane Doe\n",
                "    Legal Department.\n",
                "</Email>\n",
                "P.S. Also, please stop sending me funny cat pictures; I laugh all day and cannot work.\n",
                "```\n",
                "\n",
                "#### Document 4\n",
                "```\n",
                "<Book>\n",
                "    <!-- Hardcover -->\n",
                "    <Title>Creating Your Own Empire</Title>\n",
                "    <Author>John Doe</Author>\n",
                "    <Year>2019</Year>\n",
                "    <Publisher>Humble Press Ltd.</Publisher>\n",
                "</Book>\n",
                "<!-- I should try it out one day. -->\n",
                "```\n",
                "\n",
                "#### Document 5\n",
                "```\n",
                "<Book>\n",
                "    <!-- Hard--cover -->\n",
                "    <Title>Creating Your Own Empire</Title>\n",
                "    <Author>John Doe</Author>\n",
                "    <Year>2019</Year>\n",
                "    <Publisher>Humble Press Ltd.</Publisher>\n",
                "</Book>\n",
                "<!-- I should try it out one day. -->\n",
                "```\n",
                "\n",
                "#### Document 6\n",
                "```\n",
                "<Band name=\"Metallica\" \n",
                "      member=\"James Hetfield\" \n",
                "      member=\"Lars Ulrich\" \n",
                "      member=\"Kirk Hammett\" \n",
                "      member=\"Robert Trujillo\"/>\n",
                "```"
            ]
        },
        {
            "cell_type": "markdown",
            "metadata": {},
            "source": [
                "### 1.2 Create your own XML\n",
                "Copy the text of the introduction above (including the title until the text 'by email') and paste it into an editor as plain text. Create a possible XML document keeping the same context and including formatting (title, sections, style, links, etc.).\n",
                "\n",
                "**Questions**\n",
                "1. Is your XML well-formed? If not, correct any mistakes. You can use an editor to help you with this task.\n",
                "1. Is this data structured, unstructured, or semi-structured?\n"
            ]
        },
        {
            "cell_type": "markdown",
            "metadata": {},
            "source": [
                "### 1.3 XML Names\n",
                "Which of the following are valid XML Names?\n",
                "1. `<_bar/>`\n",
                "1. `<Xmlelement/>`\n",
                "1. `<Foo/>`\n",
                "1. `<foo123/>`\n",
                "1. `<foo_123/>`\n",
                "1. `<foo-123/>`\n",
                "1. `<foo#123/>`\n",
                "1. `<foo.123/>`\n",
                "1. `<-123/>`\n",
                "1. `<123foo/>`\n",
                "1. `<doctype/>`"
            ]
        },
        {
            "cell_type": "markdown",
            "metadata": {},
            "source": [
                "### 1.4 Predefined entities\n",
                "XML has only 5 predefined entities. Associate each escape code with the corresponding character.\n",
                "1. `&lt;` &nbsp;&nbsp;&nbsp;&nbsp;&nbsp;&nbsp;&nbsp;&nbsp;&nbsp;&nbsp;&nbsp;&nbsp;&nbsp;&nbsp;     >\n",
                "1. `&amp;`&nbsp;&nbsp;&nbsp;&nbsp;&nbsp;&nbsp;&nbsp;&nbsp;&nbsp;&nbsp;&nbsp;&nbsp;&nbsp;           \"\n",
                "1. `&gt;` &nbsp;&nbsp;&nbsp;&nbsp;&nbsp;&nbsp;&nbsp;&nbsp;&nbsp;&nbsp;&nbsp;&nbsp;&nbsp;&nbsp;     '\n",
                "1. `&quot;` &nbsp;&nbsp;&nbsp;&nbsp;&nbsp;&nbsp;&nbsp;&nbsp;&nbsp;&nbsp;                           &\n",
                "1. `&apos;` &nbsp;&nbsp;&nbsp;&nbsp;&nbsp;&nbsp;&nbsp;&nbsp;&nbsp;&nbsp;                           <"
            ]
        },
        {
            "cell_type": "markdown",
            "metadata": {},
            "source": [
                "## 2. JSON\n",
                "### 2.1 JSON Values\n",
                "JSON documents are composed of name&ndash;value pairs. List the 6 possible JSON value types."
            ]
        },
        {
            "cell_type": "markdown",
            "metadata": {},
            "source": [
                "### 2.2 JSON well-formedness\n",
                "For each of the following JSON documents, state if you see any syntax mistakes. If yes, correct them.\n",
                "\n",
                "#### Document 1\n",
                "```\n",
                "{\n",
                "  \"burger\" : {\n",
                "      \"bun\" : [\"pickles\", \"cheese\", \"patty\"],\n",
                "      \"extraIngredients\" :\n",
                "  }\n",
                "}\n",
                "```\n",
                "\n",
                "#### Document 2\n",
                "```\n",
                "{\n",
                "  \"pizza\" : {\n",
                "      \"topping\" : \"salami\",\n",
                "      \"topping\" : \"cheese\",\n",
                "      \"topping\" : \"oregano\"\n",
                "  }\n",
                "}\n",
                "```\n",
                "\n",
                "#### Document 3\n",
                "```\n",
                "{\n",
                "    name : \"John Doe\",\n",
                "    age : 42,\n",
                "    occupation : \"Penguin Turner\",\n",
                "    motto : \"Up is life!\"\n",
                "}\n",
                "```"
            ]
        },
        {
            "cell_type": "markdown",
            "metadata": {},
            "source": [
                "##  3. XML Namespaces"
            ]
        },
        {
            "cell_type": "markdown",
            "metadata": {},
            "source": [
                "For each element and attribute in the following XML document, state to which namespace it belongs.\n",
                "\n",
                "```xml\n",
                "<ff:Burger\n",
                "    xmlns:geo=\"http://example.com/geography\"\n",
                "    xmlns:spi=\"http://example.com/food/spices\"\n",
                "    xmlns:meat=\"http://example.com/food/meat\"\n",
                "    xmlns:veg=\"http://example.com/food/vegetables\"\n",
                "    xmlns:dai=\"http://example.com/food/dairy\"\n",
                "    xmlns:ff=\"http://example.com/food/fast\">\n",
                "  <ff:Bun remarks=\"gluten-free\">\n",
                "      <dai:Cheese dai:remarks=\"Made of free-range cow milk\"/>\n",
                "      <veg:Tomatoes/>\n",
                "      <ff:Patty>\n",
                "          <meat:Beef geo:origin=\"Switzerland\"/>\n",
                "          <spi:Salt with-iodine=\"yes\"/>\n",
                "          <spi:Pepper geo:origin=\"Sri Lanka\"/>\n",
                "      </ff:Patty>\n",
                "  </ff:Bun>  \n",
                "</ff:Burger>\n",
                "```\n",
                "\n"
            ]
        },
        {
            "cell_type": "markdown",
            "metadata": {},
            "source": [
                "----"
            ]
        },
        {
            "cell_type": "markdown",
            "metadata": {},
            "source": [
                "## Extra material"
            ]
        },
        {
            "cell_type": "markdown",
            "metadata": {},
            "source": [
                "## Conversions from a relational database\n",
                "\n",
                "Imagine that we have a relational table which stores chat messages. Translate this table into XML and JSON. Consult the lecture slides 6-18.\n",
                "\n",
                "conversation_id | people | sender | content | timestamp | is_read | attachment_id\n",
                "--|--|--|--|--\n",
                "42|charlie,ari,jesse|charlie|hey, here's the doc ><|1510410193|TRUE|NULL\n",
                "42|charlie,ari,jesse|charlie|NULL|1510410244|TRUE|doc_6492\n",
                "42|charlie,ari,jesse|ari|thanks!|1510432987|FALSE|NULL\n",
                "17|rudy,sage|rudy|look at this cute cat!|1500897189|TRUE|img_91847\n",
                "17|rudy,sage|NULL|aww|1506610190|TRUE|NULL"
            ]
        }
    ],
    "metadata": {
        "kernelspec": {
            "display_name": "Python 3",
            "language": "python",
            "name": "python3"
        },
        "language_info": {
            "codemirror_mode": {
                "name": "ipython",
                "version": 3
            },
            "file_extension": ".py",
            "mimetype": "text/x-python",
            "name": "python",
            "nbconvert_exporter": "python",
            "pygments_lexer": "ipython3",
            "version": "3.6.7"
        }
    },
    "nbformat": 4,
    "nbformat_minor": 1
}
