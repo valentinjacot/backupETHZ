{
    "cells": [
        {
            "cell_type": "markdown",
            "metadata": {
                "collapsed": true
            },
            "source": [
                "# <center>Big Data For Engineers &ndash; Exercises</center>\n",
                "## <center>Spring 2019 &ndash; Week 5 &ndash; ETH Zurich</center>\n",
                "## <center>HBase</center>"
            ]
        },
        {
            "cell_type": "markdown",
            "metadata": {},
            "source": [
                "## Overiew of this exercise sheet\n",
                "This exercise consists of two main parts: \n",
                "* Hands-on practice with your own HBase cluster running in Azure.\n",
                "* Theory exercises on the architecture of HBase."
            ]
        },
        {
            "cell_type": "markdown",
            "metadata": {},
            "source": [
                "# Exercise 1 &mdash; Creating and using an HBase cluster"
            ]
        },
        {
            "cell_type": "markdown",
            "metadata": {},
            "source": [
                "It's time to touch HBase! You will create, fill with data, and query an HBase cluster running on Azure."
            ]
        },
        {
            "cell_type": "markdown",
            "metadata": {},
            "source": [
                "### Do the following to set up an HBase cluster:\n",
                "\n",
                "**Important:** we want you to use a small but real cluster for running HBase rather than a single machine. But, these clusters burn Azure credit very quickly&mdash;the cheapest configuration consumes roughly **2 CHF per hour**, which is a lot relative to your overall credit&mdash;so it is very important for you to **delete your cluster once you are done.** Luckily, it is possible to keep your data intact when you delete a cluster, and see it again when you recreate it; we will touch upon this in the process. Now, let's start. Those steps are very similar to the HDFS cluster we create on week 3.\n",
                "\n",
                "1. In Azure portal click the \"Create a resource\" button on the left, type \"hdinsight\" in the search box, and select \"HDInsight\". HDInsight is Microsoft's cloud service which wraps Hadoop, HBase, Spark and other Big Data technologies; read more [here](https://azure.microsoft.com/en-us/services/hdinsight/).\n",
                "![](https://bigdataforeng.blob.core.windows.net/ex05/new_resource_edited.png)\n",
                "\n",
                "1. Switch to the \"Custom\" mode (see the screenshot), fill in the form with cluster name, user names and passwords, and select \"HBase\" as the cluster type. Click \"Next\".\n",
                "![](https://bigdataforeng.blob.core.windows.net/ex05/HDinsight_panel_edited.png)\n",
                "![](https://bigdataforeng.blob.core.windows.net/ex05/custom_panel2_edited.png)\n",
                "\n",
                "1. The canonical way would be to use an HDFS cluster as a storage layer for an HBase cluster, but we will be using the Blob service of Windows Azure Storage for this purpose. This has a significant advantage of allowing you to delete your HBase cluster without losing the data: you can recreate the cluster using the same Azure Storage Account and the same container and you will see the same data. This is useful, for example, if you don't have time to finish this exercise in one sitting: you can just delete your cluster, recreate it later, and continue your work. Azure storage is selected by default (see the screenshot). In \"Select a Storage Account\" click \"Create new\" and specify a name. **Important: if you are recreating your HBase cluster and want to see the existing data, then choose \"Select existing\" and set the container name to the one that you see in the \"Storage Accounts\" tab of Azure&mdash;by default Azure generates a new container name every time you create a cluster, which then points to a different container.** Leave everything else as it is and click \"Next\".\n",
                "![](https://bigdataforeng.blob.core.windows.net/ex05/storage_panel_edited.png)\n",
                "\n",
                "1. In the \"Applications\" step do not choose anything, just click \"Next\". We will be using HBase directly.\n",
                "\n",
                "1. Now we need to choose the configuration of the nodes in our HBase cluster. It will be enough to have **only 2 RegionServers**(see the screenshot). As for the node size, let us be wise and select the economical option: click on \"Region node size\" and choose \"D3 V2\"; do the same for the Head nodes; the \"Zookeeper\" nodes should have \"A4 v2\" selected by default (Zookeeper is a [distributed coordination service](http://zookeeper.apache.org/) used by HBase). Click \"Next\".\n",
                "![](https://bigdataforeng.blob.core.windows.net/ex05/cluster_panel2_edited.png)\n",
                "\n",
                "1. In the \"Script action\" step do not choose anything, just click \"Next\".\n",
                "\n",
                "1. In the last step, \"Summary\", check if the settings are as you intend. These clusters are expensive, so it is worth checking the price estimate at this step: for me it is 1.96 CHF/hour; if your price is larger than this, check your node sizes and counts. When done, initiate the cluster creation by clicking \"Create\". The process will take time, around 15&mdash;25 minutes."
            ]
        },
        {
            "cell_type": "markdown",
            "metadata": {},
            "source": [
                "### Accessing your cluster\n",
                "We will interact with the HBase cluster through the command-line interface of HBase. For this, you will need to run the `ssh` program in a terminal in order to connect to your cluster. This process is the same as in the last week's HDFS exercise, but we will repeat the instructions here for convenience.\n",
                "\n",
                "There are three options of how you can do this:\n",
                "1. **On your own machine** you can just use a normal terminal if you have `ssh` installed. Linux usually has it, as does MacOS. Windows doesn't have it by default (maybe Windows 10 does?), but Windows users can use one of the browser-based options, which are described next, and the other option is to install [PuTTY](http://www.putty.org/).\n",
                "1. **In your browser:**\n",
                "  1. Use the **Azure Cloud Shell**. Click on the Cloud Shell icon at the top of Azure Dashboard toolbar:\n",
                "  ![](https://bigdataforeng.blob.core.windows.net/ex05/terminal_azure_edited.png)\n",
                "  It will request your approval for creating a Storage Account required for the shell; agree to it.\n",
                "  1. Use a **terminal on Jupyter**. In your [notebooks.azure.com](https://notebooks.azure.com) tab, click \"Libraries\" in the upper-left corner of the page. Then, select any library and click \"Terminal\"\n",
                "  ![](https://bigdataforeng.blob.core.windows.net/ex05/terminal_jupyter_edited.png)\n",
                "\n",
                "In your terminal of choice, run the following (this command with everything filled-in is also available on the Azure page of your HBase cluster, if you click \"Secure Shell (SSH)\"): \n",
                "\n",
                "`ssh <ssh_user_name>@<cluster_name>-ssh.azurehdinsight.net`\n",
                "\n",
                "![](https://bigdataforeng.blob.core.windows.net/ex05/ssh_edited.png)\n",
                "\n",
                "in this command, `<ssh_user_name>` is the \"ssh username\" that you have chosen in the first step of creating the HBase cluster, and `<cluster_name>` also comes from that form. Note that the cluster name has to be suffixed with `-ssh`. \n",
                "\n",
                "If after running the `ssh` command you see a message similar to this:\n",
                "```\n",
                "Welcome to HBase on HDInsight.\n",
                "\n",
                "Last login: Sat Oct 14 15:56:56 2017 from 180.220.17.157\n",
                "To run a command as administrator (user \"root\"), use \"sudo <command>\".\n",
                "See \"man sudo_root\" for details.\n",
                "\n",
                "<ssh_user_name>@hn0-cluster:~$\n",
                "```\n",
                "then you have successfully connected to your HBase cluster. Here is an example of how it looks like on the jupyter notebook server terminal:\n",
                "\n",
                "![](https://bigdataforeng.blob.core.windows.net/ex05/ssh_connection_jupyter.png)"
            ]
        },
        {
            "cell_type": "markdown",
            "metadata": {},
            "source": [
                "## Troubleshooting\n",
                "Some issues may arise while creating your HBase cluster. Here are some common issues that we experienced:\n",
                "1. *StorageAccountAlreadyExists* : Make sure to use a unique name while creating a new storage account. The portal does not check for this while in the creation panel but only on validation and an error will arise. This also holds for cluster names.\n",
                "1. *The ssh connection does not work* : Use the password that you provided at creation. If you can't retrieve it, you can reset the password in the ssh+keys panel of your Hbase cluster. Also if you are recreating a new cluster, use a different name as your past created cluster. Otherwise, this may create a conflict in your local *known_hosts* configuration file.\n",
                "\n",
                "You can find more information about deployement errors on [this page](https://docs.microsoft.com/en-us/azure/azure-resource-manager/resource-manager-common-deployment-errors)."
            ]
        },
        {
            "cell_type": "markdown",
            "metadata": {},
            "source": [
                "# Interact with your HBase cluster using the shell\n",
                "\n",
                "In this task we will go through some basic HBase commands, in preparation for the exercise after the next one, where we will import a big dataset and run queries against it.\n",
                "\n",
                "Open the HBase shell by running the following command:\n",
                "\n",
                "**`hbase shell`**\n",
                "\n",
                "Let's say we want to create an HBase table that will store sentences adhering to the structure subject-verb-object (e.g., \"I eat mangoes\", \"She writes books\") in different languages. Here is a schema that we may use:\n",
                "\n",
                "Table name = `sentences`\n",
                "* Column family: `words`\n",
                "  * column: `subject`\n",
                "  * column: `verb`\n",
                "  * column: `object`\n",
                "* Column family: `info`\n",
                "  * column: `language`\n",
                "\n",
                "With the following command we can create such a table (a description of HBase shell commands is available [here](https://learnhbase.wordpress.com/2013/03/02/hbase-shell-commands/)):\n",
                "\n",
                "**`create 'sentences', 'words', 'info'`**\n",
                "\n",
                "You can see the schema of the table with this command:\n",
                "\n",
                "**`describe 'sentences'`**\n",
                "\n",
                "Let's insert some sentences into our table. We will put data cell by cell with the command `put <table>, <rowId>, <columnFamily:columnQualifier>, <value>`:\n",
                "\n",
                "**`put 'sentences', 'row1', 'words:subject', 'I'`**\n",
                "\n",
                "**`put 'sentences', 'row1', 'words:verb', 'drink'`**\n",
                "\n",
                "**`put 'sentences', 'row1', 'words:object', 'coffee'`**\n",
                "\n",
                "Now, let's try to query this sentence from the table, which we can do with the command `get <table>, <rowId>`:\n",
                "\n",
                "**`get 'sentences', 'row1'`**\n",
                "\n",
                "You should see output similar to this:\n",
                "\n",
                "```\n",
                "COLUMN                          CELL\n",
                "\n",
                " words:object                   timestamp=1555998158489, value=coffee\n",
                "\n",
                " words:subject                  timestamp=1555998139704, value=I\n",
                "\n",
                " words:verb                     timestamp=1555998148303, value=drink\n",
                "\n",
                "3 row(s) in 0.0540 seconds\n",
                "```\n",
                "\n",
                "As you can see, HBase shell returns data as key-value pairs rather than as rows literally. You may also notice that the lines are lexicographically sorted by the key, which is why \"subject\" appears after \"object\" in the list.\n",
                "\n",
                "I don't know how about you, but I like tea more than coffee, so let me update our sentence...\n",
                "\n",
                "**`put 'sentences', 'row1', 'words:object', 'tea'`**\n",
                "\n",
                "As you can see, we are using the same `put` command to *update* a cell. But remember that HBase does not actually update cells in place&mdash;it just inserts new versions instead. If you now run the query again, you will see the new data:\n",
                "\n",
                "**`get 'sentences', 'row1'`**\n",
                "\n",
                "returns:\n",
                "\n",
                "```\n",
                "COLUMN                          CELL\n",
                "\n",
                " words:object                   timestamp=1555998793452, value=tea\n",
                "\n",
                " words:subject                  timestamp=1555998139704, value=I\n",
                "\n",
                " words:verb                     timestamp=1555998148303, value=drink\n",
                "\n",
                "3 row(s) in 0.0470 seconds\n",
                "```\n",
                "\n",
                "We actually wanted to store sentences in different languages, so let's first set the language for the existing one:\n",
                "\n",
                "**`put 'sentences', 'row1', 'info:language', 'English'`**\n",
                "\n",
                "Note that we are now inserting a value into a different column family but for the same row. Verify with a `get` that this took effect. \n",
                "\n",
                "Now, let's add a sentence in another language (note that we are using another rowID now&mdash;`row2`):\n",
                "\n",
                "**`put 'sentences', 'row2', 'words:subject', 'Ich'`**\n",
                "\n",
                "**`put 'sentences', 'row2', 'words:verb', 'trinke'`**\n",
                "\n",
                "**`put 'sentences', 'row2', 'words:object', 'Wasser'`**\n",
                "\n",
                "**`put 'sentences', 'row2', 'info:language', 'Deutsch'`**\n",
                "\n",
                "Let's check that we indeed have 2 rows now:\n",
                "\n",
                "**`count 'sentences'`**\n",
                "\n",
                "Now, let's query all rows from the table:\n",
                "\n",
                "**`scan 'sentences'`**\n",
                "\n",
                "This, indeed, returns all two rows, in key-value format as before.\n",
                "\n",
                "It is, of course, possible to do some filtering in queries:\n",
                "\n",
                "*  **`scan 'sentences', {FILTER => \"ValueFilter(=, 'binary:English')\"}`** will find all cells with the value \"English\".\n",
                "\n",
                "*  **`scan 'sentences', {COLUMNS => 'words:subject', FILTER => \"ValueFilter(=, 'substring:I')\"}`** will find all cells in the column `words:subject` whose value contains a substring \"I\".\n",
                "\n",
                "*  **`scan 'sentences', {COLUMNS => 'words:object', ROWPREFIXFILTER => 'row'}`** will find all cells in the column `words:object` whose row key starts with the prefix `row`.\n",
                "\n",
                "What if we want to store a sentence that also contains an adjective, in addition to the subject, verb, and object? This is not a problem with HBase, because we can create new columns inside *existing* column families on the fly:\n",
                "\n",
                "**`put 'sentences', 'row3', 'words:subject', 'Grandma'`**\n",
                "\n",
                "**`put 'sentences', 'row3', 'words:verb', 'bakes'`**\n",
                "\n",
                "**`put 'sentences', 'row3', 'words:adjective', 'delicious'`**\n",
                "\n",
                "**`put 'sentences', 'row3', 'words:object', 'cakes'`**\n",
                "\n",
                "This row now has more columns in the `words` column family than others:\n",
                "\n",
                "**`get 'sentences', 'row3'`**\n",
                "\n",
                "We can also add new columns to existing rows:\n",
                "\n",
                "**`put 'sentences', 'row1', 'words:adjective', 'hot'`**\n",
                "\n",
                "**`get 'sentences', 'row1'`**\n"
            ]
        },
        {
            "cell_type": "markdown",
            "metadata": {},
            "source": [
                "This was a quick overview of HBase shell commands. In the following task we will import a real, sizeable dataset (a subset of Wikipedia) and see how HBase will handle it."
            ]
        },
        {
            "cell_type": "markdown",
            "metadata": {},
            "source": [
                "### Important: if you do not plan to do the next section right now, please delete your cluster and just recreate it when you need it again."
            ]
        },
        {
            "cell_type": "markdown",
            "metadata": {},
            "source": [
                "# Exercise 2 &mdash; The Wikipedia dataset"
            ]
        },
        {
            "cell_type": "markdown",
            "metadata": {},
            "source": [
                "In this task we will see how HBase will handle a large dataset and see how a choice of column families may affect performance.\n",
                "\n",
                "Let's begin. First, SSH to your cluster as in the previous task:\n",
                "\n",
                "**`ssh <ssh_user_name>@<cluster_name>-ssh.azurehdinsight.net`**\n",
                "\n",
                "Note that if you are still in the Hbase shell from the last exercise, you can can quit by entering `exit`.\n",
                "\n",
                "Download the compressed dataset:\n",
                "\n",
                "**`wget https://bigdataforeng.blob.core.windows.net/ex05/wiki.tar.gz`**\n",
                "\n",
                "Uncompress it:\n",
                "\n",
                "**`tar xvf wiki.tar.gz`**\n",
                "\n",
                "The dataset comprises approximately 100,000 articles of the English Wikipedia. You will see four files: \n",
                "\n",
                "| File | What's inside |\n",
                "|:------|:---------------|\n",
                "|`text.csv`| Text of the article. |\n",
                "|`author.csv`| The username of the latest version's author.|\n",
                "|`comment.csv`| Comment that the author left about the last change to the article.|\n",
                "|`timestamp.csv`| When that last change was made. Note that this \"timestamp\" is different from HBase's \"timestamp\". |\n",
                "\n",
                "The files are in a comma-separated \"`key,value`\" format in which `key` is the article title.\n",
                "\n",
                "Before we can insert the data into HBase, we need to upload it into \"HDFS\" (for our HDInsight cluster it is actually Azure Blobs). Note that uploading `text.csv` can take a couple of minutes:\n",
                "\n",
                "**`hdfs dfs -put author.csv /tmp/`**\n",
                "\n",
                "**`hdfs dfs -put comment.csv /tmp/`**\n",
                "\n",
                "**`hdfs dfs -put timestamp.csv /tmp/`**\n",
                "\n",
                "**`hdfs dfs -put text.csv /tmp/`**\n",
                "\n",
                "Let us create the schemas in HBase now\n",
                "\n",
                "**`hbase shell`**\n",
                "\n",
                "In order to see what difference column family choice can make, we need to create two different tables, each with a different schema, which we will populate with the same data. One of them will have a single column family (which we name `data`), into which all the four columns (author, timestamp, comment, text) will go:\n",
                "\n",
                "**`create 'wiki_1colfam', 'data'`**\n",
                "\n",
                "The other table will have two column families&mdash;one for *metadata* (author, timestamp, comment) and the other for the article *content* (article text is, of course, larger in size than the metadata):\n",
                "\n",
                "**`create 'wiki_2colfams', 'metadata', 'content'`**\n",
                "\n",
                "In both tables, **the row key is the name of the Wikipedia article**.\n",
                "\n",
                "After the two tables are created, we need to exit the HBase shell to return back to the head node's shell:\n",
                "\n",
                "**`exit`**\n",
                "\n",
                "Now we need to populate both tables with data. We will use the [ImportTsv](https://hbase.apache.org/book.html#importtsv) utility of HBase.\n",
                "\n",
                "Populate the table `'wiki_1colfam'` by running the following four commands, each of which uploads one column. Note that these commands print a lot of messages, but they are mostly informational with an occasional non-critical warning; unless something goes wrong, of course :) The commands will also report some \"Bad Lines\", but you can safely ignore this&mdash;some lines may contain illegal characters and be dropped, but most of the data is in good shape.\n",
                "\n",
                "**`hbase org.apache.hadoop.hbase.mapreduce.ImportTsv -Dimporttsv.separator=, -Dimporttsv.columns=\"HBASE_ROW_KEY, data:author\" wiki_1colfam wasbs:///tmp/author.csv`**\n",
                "\n",
                "**`hbase org.apache.hadoop.hbase.mapreduce.ImportTsv -Dimporttsv.separator=, -Dimporttsv.columns=\"HBASE_ROW_KEY, data:comment\" wiki_1colfam wasbs:///tmp/comment.csv`**\n",
                "\n",
                "**`hbase org.apache.hadoop.hbase.mapreduce.ImportTsv -Dimporttsv.separator=, -Dimporttsv.columns=\"HBASE_ROW_KEY, data:timestamp\" wiki_1colfam wasbs:///tmp/timestamp.csv`**\n",
                "\n",
                "**`hbase org.apache.hadoop.hbase.mapreduce.ImportTsv -Dimporttsv.separator=, -Dimporttsv.columns=\"HBASE_ROW_KEY, data:text\" wiki_1colfam wasbs:///tmp/text.csv`**\n",
                "\n",
                "The last command imports the biggest column, `text`, so it will take time; up to a couple of minutes.\n",
                "\n",
                "Now we need to populate the other table, `wiki_2colfams`. We will use the same four commands, but notice that we use a different table name and that the `text` column now gets its own column family.\n",
                "\n",
                "**`hbase org.apache.hadoop.hbase.mapreduce.ImportTsv -Dimporttsv.separator=, -Dimporttsv.columns=\"HBASE_ROW_KEY, metadata:author\" wiki_2colfams wasbs:///tmp/author.csv`**\n",
                "\n",
                "**`hbase org.apache.hadoop.hbase.mapreduce.ImportTsv -Dimporttsv.separator=, -Dimporttsv.columns=\"HBASE_ROW_KEY, metadata:comment\" wiki_2colfams wasbs:///tmp/comment.csv`**\n",
                "\n",
                "**`hbase org.apache.hadoop.hbase.mapreduce.ImportTsv -Dimporttsv.separator=, -Dimporttsv.columns=\"HBASE_ROW_KEY, metadata:timestamp\" wiki_2colfams wasbs:///tmp/timestamp.csv`**\n",
                "\n",
                "**`hbase org.apache.hadoop.hbase.mapreduce.ImportTsv -Dimporttsv.separator=, -Dimporttsv.columns=\"HBASE_ROW_KEY, content:text\" wiki_2colfams wasbs:///tmp/text.csv`**"
            ]
        },
        {
            "cell_type": "markdown",
            "metadata": {},
            "source": [
                "## Tasks to do\n",
                "\n",
                "1. Write the following queries using the HBase shell:\n",
                "  1. Print the title and the author's name for each article whose title starts with '`Albert`'.\n",
                "  1. Print the title and the author's name for each article whose author's name contains the substring '`tom`'.\n",
                "1. Execute your queries on the two tables (more than once) and observe the query execution times\n",
                "1. What are the advantages and disadvantages of pure row stores?\n",
                "1. What are the advantages and disadvantages of pure column stores?\n",
                "1. What are the advantages and disadvantages of wide column stores?\n",
                "1. What are the advantages and disadvantages of denormalization?"
            ]
        },
        {
            "cell_type": "markdown",
            "metadata": {},
            "source": [
                "## Important: you may delete your HBase cluster now. \n",
                "The next exercise will focus on HBase's architecture."
            ]
        },
        {
            "cell_type": "markdown",
            "metadata": {},
            "source": [
                "# Exercise 3 &mdash; Architecture of HBase\n",
                "\n",
                "In the previous tasks, we have seen HBase in action. Let us now take a look at the internal architecture of HBase. You may want to consult the lecture slides when solving these tasks."
            ]
        },
        {
            "cell_type": "markdown",
            "metadata": {},
            "source": [
                "## Task 3.1 &mdash; Inside a RegionServer"
            ]
        },
        {
            "cell_type": "markdown",
            "metadata": {},
            "source": [
                "In this exercise you will see how a RegionServer in HBase would execute a query.\n",
                "\n",
                "Imagine that we have an HBase table called '`phrases`', which has the following schema:\n",
                "\n",
                "* Column family: `words`\n",
                "  * column: A\n",
                "  * column: B\n",
                "  * column: C\n",
                "  * (potentially also columns D, E, F, etc.)\n",
                "\n",
                "Thus, the table has only one column family. Each column in this family holds one word.\n",
                "\n",
                "Recall from the lecture slides that keys in HBase have the following structure:\n",
                "<img src=\"https://bigdataforeng.blob.core.windows.net/ex05/hbase-key-structure.png\" width=\"70%\">\n",
                "\n",
                "We need make certain simplifications to the format of keys to avoid excessive clutter in this exercise. Since the table in this exercise has only one column family, we will omit it from the key and will only specify the column name (A,B,C, ...). We will also omit the length fields and the \"key type\" field. The timestamp field in this exercise will contain integers from 1 to 10, where in reality it would contain the number of milliseconds since an event in the long past. Thus, keys as will be used in this exercise consist of three fileds: row, column, timestamp.\n",
                "\n",
                "### Tasks to do\n",
                "\n",
                "State which Key-Value pairs will be returned by each of the following queries, given in HBase shell syntax which you have already seen in the first exercise. Assume that the HBase instance is configured to return only the latest version of a cell and that the columns are returned in lexicographic order.\n",
                "\n",
                "1. `get 'phrases', '209'`\n",
                "1. `get 'phrases', '491'`\n",
                "1. `get 'phrases', '900'`\n",
                "1. `get 'phrases', '743'`\n",
                "1. `get 'phrases', '145'`\n",
                "\n",
                "To answer this question, use the diagram below, which represents the state of a RegionServer responsible for the row region in the range of row IDs 100&ndash;999, which is the region into which all these queries happen to fall. "
            ]
        },
        {
            "cell_type": "markdown",
            "metadata": {},
            "source": [
                "A larger, zoomable, PDF version of this diagram is available [here](https://bigdataforeng.blob.core.windows.net/ex05/HBase_Architecture_Queries.pdf)."
            ]
        },
        {
            "cell_type": "markdown",
            "metadata": {},
            "source": [
                "![Overall_Instance1](https://bigdataforeng.blob.core.windows.net/ex05/HBase_Architecture_Queries.png)"
            ]
        },
        {
            "cell_type": "markdown",
            "metadata": {},
            "source": [
                "# Own exploration\n",
                "## Building an HFile index"
            ]
        },
        {
            "cell_type": "markdown",
            "metadata": {},
            "source": [
                "When performing a get, the RegionServer needs to check its MemStore and all HFiles (unless the Bloom filter returns negative) for the existence of the requested key. In order to avoid scanning HFiles entirely, HBase uses index structures to quickly skip to the position of the *HBase block* which may hold the requested key.\n",
                "\n",
                "By default, each *HBase block* is 64KB (configurable) in size and always contains whole key-value pairs, so, if a block needs more than 64KB to avoid splitting a key-value pair, it will just grow.\n",
                "\n",
                "In this task, you will be building the index of an HFile. __For the purpose of this exercise__, assume that each HBase block is 40 bytes long, and each character in keys and values is worth 1 byte: for example, the first key-value pair in the diagram below is worth $3 + 1 + 1 + 6 = 11$ bytes. Below this diagram you will find a table for you to fill in."
            ]
        },
        {
            "cell_type": "markdown",
            "metadata": {},
            "source": [
                "<img src=\"https://bigdataforeng.blob.core.windows.net/ex05/HBase_HFile_Index_Task.png\" width=\"50%\">"
            ]
        },
        {
            "cell_type": "markdown",
            "metadata": {},
            "source": [
                "Based on the contents of the HFile above, you need to populate the index, following the approach described in the lecture slides. Use the following table (again, you can edit it by double-clicking). Use as many or as few rows as you need.\n",
                "\n",
                "| RowId | Column | Version |\n",
                "|-------|--------|---------|\n",
                "|       |        |         |\n",
                "|       |        |         |\n",
                "|       |        |         |\n",
                "|       |        |         |\n",
                "|       |        |         |\n",
                "|       |        |         |\n",
                "|       |        |         |\n",
                "|       |        |         |\n",
                "|       |        |         |\n",
                "|       |        |         |"
            ]
        }
    ],
    "metadata": {
        "kernelspec": {
            "display_name": "Python 3.6",
            "language": "python",
            "name": "python36"
        },
        "language_info": {
            "codemirror_mode": {
                "name": "ipython",
                "version": 3
            },
            "file_extension": ".py",
            "mimetype": "text/x-python",
            "name": "python",
            "nbconvert_exporter": "python",
            "pygments_lexer": "ipython3",
            "version": "3.6.3"
        }
    },
    "nbformat": 4,
    "nbformat_minor": 2
}
