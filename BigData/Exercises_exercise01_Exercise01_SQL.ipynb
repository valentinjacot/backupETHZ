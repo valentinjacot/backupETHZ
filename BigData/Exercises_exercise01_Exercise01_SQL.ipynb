{
    "cells": [
        {
            "cell_type": "markdown",
            "metadata": {},
            "source": [
                "# <center>Big Data &ndash; Exercises</center>\n",
                "## <center>Spring 2018 &ndash; Week 1 &ndash; ETH Zurich</center>"
            ]
        },
        {
            "cell_type": "markdown",
            "metadata": {},
            "source": [
                "## Prerequisites\n",
                "In this exercise, you will brush-up the fundamental concepts of relational databases and SQL. If you havn't taken the Data Modelling and Databases course (or an equivalent bachelor course), we recommend you to read Garcia-Molina, Ullman, Widom: Database Systems: The Complete Book. Pearson, 2. Edition, 2008. (Chapters 1, 2, and 6)\n"
            ]
        },
        {
            "cell_type": "markdown",
            "metadata": {},
            "source": [
                "## Exercise 1: Query operations in SQL\n",
                "\n",
                "1) Label each of the following SQL statements with its query type.\n",
                "\n",
                "```\n",
                "A. SELECT * FROM Posts WHERE Id = 123\n",
                " \n",
                "B. SELECT Id, ParentId FROM Posts WHERE ParentId IS NOT NULL\n",
                " \n",
                "C. SELECT u.Id, DisplayName\n",
                "   FROM Users AS u\n",
                "   JOIN Posts AS p ON u.id = p.OwnerUserId\n",
                "   GROUP BY u.Id, DisplayName\n",
                "```\n",
                "\n",
                "2) What makes SQL a declarative language and what advantages does that have?\n",
                "\n",
                "3) What aspects of functional languages are present in SQL, and what advantages does that have?"
            ]
        },
        {
            "cell_type": "markdown",
            "metadata": {},
            "source": [
                "## Exercise 2: Explore the dataset\n",
                "\n",
                "Here we will recall basic concepts from relational databases and try to illustrate them by example. First, some introductory questions:\n",
                "\n",
                "1. What is a relational model? \n",
                "2. In what logical shape is the data stored? \n",
                "3. What is a primary key and what is his purpose?\n",
                "4. What does 'first normal form' refer to? \n",
                "\n",
                "Now let us illustrate with few examples. For this we need to connect to the database we used in the first exercise. We repeat here the steps. We first set the credentials to connect."
            ]
        },
        {
            "cell_type": "code",
            "execution_count": null,
            "metadata": {},
            "outputs": [],
            "source": [
                "server='ethbigdata2017'\n",
                "user='student'\n",
                "password='BigData17'\n",
                "database='beer.stackexchange.com'"
            ]
        },
        {
            "cell_type": "markdown",
            "metadata": {},
            "source": [
                "Now, lets make sure that we can connect to the database for which we need the following scripts."
            ]
        },
        {
            "cell_type": "code",
            "execution_count": null,
            "metadata": {},
            "outputs": [],
            "source": [
                "!pip install pymssql==2.1.2"
            ]
        },
        {
            "cell_type": "code",
            "execution_count": null,
            "metadata": {},
            "outputs": [],
            "source": [
                "!pip install ipython-sql"
            ]
        },
        {
            "cell_type": "markdown",
            "metadata": {},
            "source": [
                "We can now load the extension and establish a connection to our database from above. Run the following cell and make sure the output says *\"Connected: &lt;connection string&gt;\"*."
            ]
        },
        {
            "cell_type": "code",
            "execution_count": null,
            "metadata": {},
            "outputs": [],
            "source": [
                "%load_ext sql\n",
                "connection_string = 'mssql+pymssql://{user}@{server}:{password}@{server}.database.windows.net:1433/{database}'.format(\n",
                "        server=server, user=user, password=password, database=database)\n",
                "print(connection_string)\n",
                "%sql $connection_string"
            ]
        },
        {
            "cell_type": "markdown",
            "metadata": {},
            "source": [
                "If all steps executed correctly, the cell bellow should produce result."
            ]
        },
        {
            "cell_type": "code",
            "execution_count": null,
            "metadata": {},
            "outputs": [],
            "source": [
                "%%sql \n",
                "SELECT TOP 10 Id, DisplayName FROM Users"
            ]
        },
        {
            "cell_type": "markdown",
            "metadata": {},
            "source": [
                "Now that you have established connection to the database, let us try to understand the it a bit better. \n",
                "\n",
                "### List of Tables\n",
                "\n",
                "Run the following query which shows the content of a system table with the names of the tables. (This is specific to MS SQL Server.)"
            ]
        },
        {
            "cell_type": "code",
            "execution_count": null,
            "metadata": {},
            "outputs": [],
            "source": [
                "%sql SELECT * FROM INFORMATION_SCHEMA.TABLES WHERE TABLE_TYPE = 'BASE TABLE' AND TABLE_CATALOG='beer.stackexchange.com';"
            ]
        },
        {
            "cell_type": "markdown",
            "metadata": {},
            "source": [
                "### List of attributes/columns\n",
                "\n",
                "The following shows information about the attributes of the tables."
            ]
        },
        {
            "cell_type": "code",
            "execution_count": null,
            "metadata": {},
            "outputs": [],
            "source": [
                "%sql SELECT TABLE_CATALOG, TABLE_SCHEMA, TABLE_NAME, COLUMN_NAME, DATA_TYPE \\\n",
                "     FROM INFORMATION_SCHEMA.COLUMNS \\\n",
                "     WHERE TABLE_CATALOG='beer.stackexchange.com' AND TABLE_SCHEMA <> 'sys'\\\n",
                "     ORDER BY TABLE_CATALOG, TABLE_SCHEMA, TABLE_NAME, ORDINAL_POSITION;"
            ]
        },
        {
            "cell_type": "code",
            "execution_count": null,
            "metadata": {},
            "outputs": [],
            "source": [
                "%sql SELECT COLUMN_NAME \\\n",
                "     FROM INFORMATION_SCHEMA.KEY_COLUMN_USAGE \\\n",
                "     WHERE OBJECTPROPERTY(OBJECT_ID(CONSTRAINT_SCHEMA + '.' + QUOTENAME(CONSTRAINT_NAME)), 'IsPrimaryKey') = 1 \\\n",
                "        AND TABLE_NAME = 'Votes' AND TABLE_SCHEMA = 'dbo';"
            ]
        },
        {
            "cell_type": "markdown",
            "metadata": {},
            "source": [
                "From the above returned results answer the following questions:\n",
                "1. Which objects are modelled in the dataset and how do they relate (semantically) to each other?\n",
                "4. Which are the primary keys for each table?"
            ]
        },
        {
            "cell_type": "markdown",
            "metadata": {},
            "source": [
                "### Where we got the data from (if interested)\n",
                "\n",
                "* [Info about the StackOverflow dataset](http://meta.stackexchange.com/questions/2677/database-schema-documentation-for-the-public-data-dump-and-sede)\n",
                "* [Web interface to query it](https://data.stackexchange.com/beer/query/new)\n",
                "* [Link to the dataset](https://archive.org/download/stackexchange/) (you don't need to do that!)"
            ]
        },
        {
            "cell_type": "markdown",
            "metadata": {},
            "source": [
                "## Exercise 3: Distribution of post scores\n",
                "\n",
                "In this exercise, we want to find out how the scores of posts are distributed.\n",
                "\n",
                "To start, write a query that selects the top 10 best-scored posts. (Note that ```SELECT TOP 10``` is MS SQL specific syntax. Other systems have different syntaxes to achieve the same thing.)"
            ]
        },
        {
            "cell_type": "code",
            "execution_count": null,
            "metadata": {},
            "outputs": [],
            "source": [
                "%sql SELECT TOP 10 ..."
            ]
        },
        {
            "cell_type": "markdown",
            "metadata": {},
            "source": [
                "We now know what the best posts look like. What about \"more normal\" posts? Write a query that counts (using the COUNT operation) the number of posts for each score."
            ]
        },
        {
            "cell_type": "code",
            "execution_count": null,
            "metadata": {},
            "outputs": [],
            "source": [
                "%sql SELECT ..."
            ]
        },
        {
            "cell_type": "markdown",
            "metadata": {},
            "source": [
                "Did you use renaming in the query?  If not try to rename the returned results from the count operation."
            ]
        },
        {
            "cell_type": "code",
            "execution_count": null,
            "metadata": {},
            "outputs": [],
            "source": [
                "%sql SELECT ..."
            ]
        },
        {
            "cell_type": "markdown",
            "metadata": {},
            "source": [
                "The above query gives a very large result that is difficult to interpret. Let us write a query that rounds the scores of the posts to the nearest multiple of a constant that we define and counts the number of posts for each rounded score.  "
            ]
        },
        {
            "cell_type": "code",
            "execution_count": null,
            "metadata": {},
            "outputs": [],
            "source": [
                "%%sql\n",
                "SELECT RoundedScore, Count(*) AS Count\n",
                "FROM (\n",
                "        SELECT ROUND((score+2.5)/5, 0) * 5 AS RoundedScore FROM Posts\n",
                "    ) AS Rounded\n",
                "GROUP BY RoundedScore\n",
                "ORDER BY RoundedScore DESC;"
            ]
        },
        {
            "cell_type": "markdown",
            "metadata": {},
            "source": [
                "Can you name the operation of calling a query from inside a query? What are the semantics of the GROUP By and ORDER By operations?\n",
                "\n",
                "Using the right constant for the rounding, you can already get a better grasp of the distribution of scores. Here, we round each score to smallest integer multiple of 5 that is still strictly larger. (This is not the greatest way of rounding, but it will do for the purpose of this exercise.)\n",
                "\n",
                "We will now execute the same query but from within a Python script. This allows us to send the SQL query results to Matplotlib and plot them. "
            ]
        },
        {
            "cell_type": "code",
            "execution_count": null,
            "metadata": {},
            "outputs": [],
            "source": [
                "%matplotlib inline\n",
                "import matplotlib.pyplot as plt\n",
                "\n",
                "# Store the result of the query in a Python object (add your query here!)\n",
                "result = %sql SELECT RoundedScore, Count(*) AS Count \\\n",
                "     FROM ( \\\n",
                "             SELECT ROUND((score+2.5)/5, 0) * 5 AS RoundedScore FROM Posts \\\n",
                "        ) AS Rounded \\\n",
                "     GROUP BY RoundedScore \\\n",
                "     ORDER BY RoundedScore DESC;\n",
                "\n",
                "# Convert the result to a Pandas data frame\n",
                "df = result.DataFrame()\n",
                "\n",
                "# Extract x and y values for a plot\n",
                "x = df['RoundedScore'].tolist()\n",
                "y = df['Count'].tolist()\n",
                "\n",
                "# Print them just for debugging\n",
                "print(x)\n",
                "print(y)\n",
                "\n",
                "# Plot the distribution of scores\n",
                "fig, ax = plt.subplots()\n",
                "ax.bar(range(len(df.index)), y, tick_label=[int(i) for i in x], align='center')\n",
                "ax.set_xlabel('Score')\n",
                "ax.set_ylabel('Number of Posts')"
            ]
        },
        {
            "cell_type": "markdown",
            "metadata": {},
            "source": [
                "## Exercise 4: Impact of Score Count on Scores\n",
                "\n",
                "We now want to find out whether the number of posts of the owner of a post has an influence of the score of the post.\n",
                "To that goal, write queries that answer the following questions:\n",
                "\n",
                "1. What are the 10 users with the highest number of posts?\n",
                "2. What is the average number of posts per user?\n",
                "3. Which are the users with a number of posts higher than 10?\n",
                "4. How many such users exist?"
            ]
        },
        {
            "cell_type": "code",
            "execution_count": null,
            "metadata": {},
            "outputs": [],
            "source": [
                "%%sql\n",
                "SELECT TOP 10 ... \n",
                "FROM ... \n",
                "JOIN ..."
            ]
        },
        {
            "cell_type": "code",
            "execution_count": null,
            "metadata": {},
            "outputs": [],
            "source": [
                "%%sql\n",
                "SELECT AVG(CAST(PostCount AS FLOAT)) AS AveragePostCount\n",
                "FROM ...\n",
                "as PostCount;"
            ]
        },
        {
            "cell_type": "code",
            "execution_count": null,
            "metadata": {},
            "outputs": [],
            "source": [
                "%%sql\n",
                "SELECT ..."
            ]
        },
        {
            "cell_type": "code",
            "execution_count": null,
            "metadata": {},
            "outputs": [],
            "source": [
                "%%sql\n",
                "SELECT ..."
            ]
        },
        {
            "cell_type": "markdown",
            "metadata": {},
            "source": [
                "## Own exploration\n",
                "\n",
                "We recommend that you try to interact with the database and construct your own queries of different semantics and difficulty. Knowledge of SQL is very valuable in disciplines which have to deal with big data volumes stored as a relational data model: the predominant approach for data storage currently is use. "
            ]
        },
        {
            "cell_type": "markdown",
            "metadata": {},
            "source": [
                "## Recommended own work: Set up an SQL database with the StackOverflow dataset\n",
                "\n",
                "The loading will consist of the following steps:\n",
                "1. Create your own SQL server.\n",
                "1. Copy our StackOverflow export to your storage account.\n",
                "2. Import the database dump into a new SQL database.\n",
                "3. Test querying the server.\n",
                "\n",
                "### Step 1: Create your own SQL server.\n",
                "\n",
                "(This is an adaptation of [this tutorial](https://azure.microsoft.com/en-us/documentation/articles/sql-database-get-started/).)\n",
                "\n",
                "1. In the [portal](https://portal.azure.com) in the left menu, click on \"New\", search for \"SQL\", then select \"SQL server (logical server)\" and finally \"create\".\n",
                "2. Fill in the form below with values of your choice. Your form also asks for a resource group. Create a new resource group, which you may call \"exercise01\". Select \"Pin to dashboard\".\n",
                "\n",
                "![](https://ethbigdata2017.blob.core.windows.net/exercise01assets/sql.png)\n",
                "\n",
                "3. To check whether the database server has been created, go to \"Resource groups\" in the menu on the left, then open your new resource group (\"exercise01\") from the list. You should see the SQL server in the list.\n",
                "\n",
                "4. Now to the settings of your database server, then open the firewall settings. Open the firewall for everyone by adding a rule named \"open for all\" with start IP \"0.0.0.0\" and end IP \"255.255.255.255\" in the following form. Click \"save\" to finish.\n",
                "\n",
                "&nbsp;\n",
                "![](https://ethbigdata2017.blob.core.windows.net/exercise01assets/firewall.png)\n",
                "\n",
                "### Step 2: Copy our StackOverflow export to your storage account\n",
                "\n",
                "1. First you need to create a storage account. (More about that next week!) To do that, go to \"Storage accounts\" in the left menu. Click on \"Add\" at the top of the blade and fill out the following form. Choose the \"exercise01\" resource group, select \"Locally redundant storage (LRS)\" as replication mode, and let all other values at their defaults.\n",
                "\n",
                "2. Open the new storage account (you may need to wait a while before it has been created), go to \"Access keys\" (under \"Settings\") and copy one of its keys to the clipboard.\n",
                "\n",
                "&nbsp;\n",
                "![Image of Account](https://ethbigdata2017.blob.core.windows.net/exercise01assets/accountkey.png)\n",
                "\n",
                "3. Paste the key and the account name here. The third variable holds the name of the container (a container is essentially a folder) that we will create a bit later. Run the cell."
            ]
        },
        {
            "cell_type": "code",
            "execution_count": null,
            "metadata": {},
            "outputs": [],
            "source": [
                "YOUR_ACCOUNT_KEY    = '...'\n",
                "YOUR_ACCOUNT_NAME   = '...'\n",
                "YOUR_CONTAINER_NAME = 'exercise01'"
            ]
        },
        {
            "cell_type": "markdown",
            "metadata": {},
            "source": [
                "&nbsp;&nbsp;&nbsp; 4\\. Install a management library for Azure storage."
            ]
        },
        {
            "cell_type": "code",
            "execution_count": null,
            "metadata": {},
            "outputs": [],
            "source": [
                "!pip install azure-storage==0.33.0"
            ]
        },
        {
            "cell_type": "markdown",
            "metadata": {},
            "source": [
                "Now we can get a list of files in the storage container we created for you (again, next week, we will understand a bit better what is going on):"
            ]
        },
        {
            "cell_type": "code",
            "execution_count": null,
            "metadata": {},
            "outputs": [],
            "source": [
                "from azure.storage.blob import BlockBlobService\n",
                "from azure.storage.blob import PageBlobService\n",
                "from azure.storage.blob import AppendBlobService\n",
                "from azure.storage.blob import PublicAccess\n",
                "from azure.storage.models import LocationMode\n",
                "from azure.storage.blob import ContentSettings\n",
                "\n",
                "# Name of storage account and container of the course\n",
                "COURSE_ACCOUNT_NAME   = 'ethbigdata2017'\n",
                "COURSE_CONTAINER_NAME = 'exercise01'\n",
                "\n",
                "# Connect to it\n",
                "block_blob_service = BlockBlobService(account_name=COURSE_ACCOUNT_NAME)\n",
                "\n",
                "# List all blobs in course's container\n",
                "try:\n",
                "    blobs = block_blob_service.list_blobs(COURSE_CONTAINER_NAME)\n",
                "    for blob in blobs:\n",
                "        print('Name: {} \\t\\t Type: {}'.format(blob.name,blob.properties.blob_type)) \n",
                "except:\n",
                "    print(\"You don't have an access to %s \"%(COURSE_CONTAINER_NAME))"
            ]
        },
        {
            "cell_type": "markdown",
            "metadata": {},
            "source": [
                "&nbsp;&nbsp;&nbsp; 5\\. Finally, we can copy the files from the course's container to a container we create on your account."
            ]
        },
        {
            "cell_type": "code",
            "execution_count": null,
            "metadata": {},
            "outputs": [],
            "source": [
                "# Connect to your account\n",
                "your_service = BlockBlobService(account_name=YOUR_ACCOUNT_NAME, account_key=YOUR_ACCOUNT_KEY)\n",
                "\n",
                "# Create a container where all files will be uploaded\n",
                "try:\n",
                "    status = your_service.create_container(YOUR_CONTAINER_NAME)\n",
                "    if status == True:\n",
                "        print(\"New container has been created\")\n",
                "    else:\n",
                "        print(\"Container already exists\")\n",
                "except:\n",
                "    print(\"Something went wrong.\")\n",
                "\n",
                "# Upload files to your storage from course's storage\n",
                "try:\n",
                "    blobs = block_blob_service.list_blobs(COURSE_CONTAINER_NAME)\n",
                "    for blob in blobs:\n",
                "        source = block_blob_service.make_blob_url(COURSE_CONTAINER_NAME,blob.name)\n",
                "        your_service.copy_blob(YOUR_CONTAINER_NAME, blob.name, source)\n",
                "    print(\"The files have been copied successfully\")\n",
                "except:\n",
                "    print(\"Something went wrong.\")\n",
                "\n",
                "# List all files in your container\n",
                "try:\n",
                "    blobs = your_service.list_blobs(YOUR_CONTAINER_NAME)\n",
                "    for blob in blobs:\n",
                "        print('Name: {} \\t\\t Type: {}'.format(blob.name,blob.properties.blob_type)) \n",
                "except:\n",
                "    print(\"Something went wrong.\")"
            ]
        },
        {
            "cell_type": "markdown",
            "metadata": {},
            "source": [
                "### Step 3: Import the database dump into a new SQL database\n",
                "Follow [this guide](https://azure.microsoft.com/en-us/documentation/articles/sql-database-import/) with the SQL server and the ```beer.stackexchange.com.bacpac``` file you uploaded to your account **using the cheapest pricing tier available** (\"B Basic\"). In the form, leave the \"Database name\" field as it is; by default it will take on the name of the ```.bacpac file```, and this is what we need.\n",
                "\n",
                "Importing the database may take a while. You can check the progress in the alert bubble at the top right of the portal. You can also go the page of your SQL server and open \"Import/Export history\"."
            ]
        },
        {
            "cell_type": "markdown",
            "metadata": {},
            "source": [
                "### Step 4: Test querying the server\n",
                "\n",
                "First, let's make sure that the connection library (PyMSSQL) and the SQL extension for Jupyter (ipython-sql) are still installed by running the next cells. If things don't work or you need more explanation what is going on, look at the notebook of last week."
            ]
        },
        {
            "cell_type": "code",
            "execution_count": null,
            "metadata": {},
            "outputs": [],
            "source": [
                "!pip install pymssql==2.1.2"
            ]
        },
        {
            "cell_type": "code",
            "execution_count": null,
            "metadata": {},
            "outputs": [],
            "source": [
                "!pip install ipython-sql"
            ]
        },
        {
            "cell_type": "markdown",
            "metadata": {},
            "source": [
                "Restart the kernel now if the extension was installed anew, then continue. Then fill in and run the following cell."
            ]
        },
        {
            "cell_type": "code",
            "execution_count": null,
            "metadata": {},
            "outputs": [],
            "source": [
                "# The name of your server is the one you chose in step 1\n",
                "server='<your-db-name>.database.windows.net'\n",
                "\n",
                "# The user is of form <your-admin-login>@<your-db-server-name>. You chose both in step 1.\n",
                "# <your-db-server-name> is only the part *before* '.database.windows.net'\n",
                "user='<your-admin-login>@<your-db-server-name>'\n",
                "\n",
                "# The password is the one you chose in step 1\n",
                "password='...'\n",
                "\n",
                "# This is the name of the database. \n",
                "# By default, it will coincide with the name of the .bacpac file that you used above.\n",
                "# Warning: if this name contains dashes (-) in it, the subsequent code will not work\n",
                "database='beer.stackexchange.com'"
            ]
        },
        {
            "cell_type": "code",
            "execution_count": null,
            "metadata": {},
            "outputs": [],
            "source": [
                "%load_ext sql\n",
                "connection_string = 'mssql+pymssql://{user}:{password}@{server}:1433/{database}'.format(\n",
                "        server=server, user=user, password=password, database=database)\n",
                "%sql $connection_string"
            ]
        },
        {
            "cell_type": "markdown",
            "metadata": {},
            "source": [
                "Finally, the following cell should produce a result. (You may need to wait until the import process is complete.)"
            ]
        },
        {
            "cell_type": "code",
            "execution_count": null,
            "metadata": {},
            "outputs": [],
            "source": [
                "%%sql\n",
                "SELECT TOP 10 Id, DisplayName FROM Users;"
            ]
        },
        {
            "cell_type": "markdown",
            "metadata": {},
            "source": [
                "If everything fails, use the credentials of our server from last week. If that fails as well, use the [webinterface](https://data.stackexchange.com/beer/query/new) of StackOverflow to query live data."
            ]
        }
    ],
    "metadata": {
        "anaconda-cloud": {},
        "kernelspec": {
            "display_name": "Python 3",
            "language": "python",
            "name": "python3"
        },
        "language_info": {
            "codemirror_mode": {
                "name": "ipython",
                "version": 3
            },
            "file_extension": ".py",
            "mimetype": "text/x-python",
            "name": "python",
            "nbconvert_exporter": "python",
            "pygments_lexer": "ipython3",
            "version": "3.5.4rc1"
        }
    },
    "nbformat": 4,
    "nbformat_minor": 2
}
