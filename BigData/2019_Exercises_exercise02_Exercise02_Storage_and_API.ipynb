{
    "cells": [
        {
            "metadata": {},
            "cell_type": "markdown",
            "source": "# <center>Big Data For Engineers &ndash; Exercises</center>\n## <center>Spring 2019 &ndash; Week 2 &ndash; ETH Zurich</center>"
        },
        {
            "metadata": {},
            "cell_type": "markdown",
            "source": "## Exercise 1: Storage devices \n\nIn this exercise, we want to understand the differences between [SSD](https://en.wikipedia.org/wiki/Solid-state_drive), [HDD](https://en.wikipedia.org/wiki/Hard_disk_drive), and [SDRAM](https://en.wikipedia.org/wiki/Synchronous_dynamic_random-access_memory) in terms of capacity, speed and price. \n\nAll these three types of devices are used for storing data, but do that at different costs.\nYour task is to fill in the table below by visiting your local online hardware store. \nFor instance, you can visit Digitec.ch to explore the prices on [SSDs](https://www.digitec.ch/en/s1/producttype/ssd-545?tagIds=76), [HDDs](https://www.digitec.ch/en/s1/producttype/hard-drives-36?tagIds=76), and \n[SDRAMs](https://www.digitec.ch/en/s1/producttype/memory-2?tagIds=76). \nYou are free to use any other website for filling the table. \n\n** You can modify the current \"markdown cell\" by double-clicking it and editing the table below**  \n** To return back from the editing mode to the view mode press *Ctrl+Enter*, or *Shift+Enter* **\n\n\n\n| Storage Device | Maximum capacity, GB | Price, CHF/GB  | Read speed, GB/s | Write speed, GB/s |\n| --------------:| --------------------:| --------------:|-----------------:|------------------:|\n| HDD            |                      |                |                  |                   | \n| SSD            |                      |                |                  |                   |\n| DRAM           |                      |                |                  |                   | \n\n\n### Questions:\n1. What type of storage devices above is the cheapest one? \n2. What type of storage devices above is the fastest in terms of read speed?\n3. What does it mean for a storage device to be volatile?  Which devices under study are volatile memory devices? \n\n"
        },
        {
            "metadata": {},
            "cell_type": "markdown",
            "source": "## Exercise 2: HTTP"
        },
        {
            "metadata": {},
            "cell_type": "markdown",
            "source": "HTTP is the underlying protocol used by the World Wide Web. It defines how messages are formatted and transmitted, and what actions Web servers and browsers should take in response to various commands.\n\nThe HTTP protocol is based on requests (usually made by a client, eg: your web browser) and responses (usually made by a server hosting a particular website or application)."
        },
        {
            "metadata": {},
            "cell_type": "markdown",
            "source": "Request<br><br>\n\n\n<font color=\"#990000\">GET</font> <font color=\"blue\">/path/index.html</font> <font color=\"#bf9000\">HTTP/1.1</font>  \n<font color=\"green\">Host: www .example.com  \nUser-Agent: Mozilla/4.0</font>\n\nBookId=3131&Author=Asimov\n<br><br>---<br><br>\n<font color=\"#990000\">This fragment indicates the HTTP method used</font><br>\n<font color=\"blue\">This indicate the relative path of the resource</font><br>\n<font color=\"#bf9000\">This is the HTTP version</font><br>\n<font color=\"green\">These are the headers of the request (1 per line)</font><br>\n<font>This is the body of the request</font>"
        },
        {
            "metadata": {},
            "cell_type": "markdown",
            "source": "Response<br><br>\n<font color=\"#bf9000\">HTTP/1.1</font> <font color=\"#990000\">200 OK</font>  \n<font color=\"green\">Date: Tue, 25 Sep 2018 09:48:34 GMT  \nContent-Type: text/html; charset=UTF-8  \nContent-Length: 138  \n</font>\n\n&lt;html> &lt;head> &lt;title>An Example Page&lt;/title>\n&lt;/head> &lt;body> Hello World, this is a very simple\nHTML document. &lt;/body> &lt;/html>\n<br><br>---<br><br>\n<font color=\"#990000\">This fragment indicates the status code of the response</font><br>\n<font color=\"#bf9000\">This is the HTTP version</font><br>\n<font color=\"green\">These are the headers of the response (1 per line)</font><br>\n<font>This is the body of the response</font>"
        },
        {
            "metadata": {},
            "cell_type": "markdown",
            "source": "### HTTP Methods\n\nConsider a well-designed object storage service providing a REST API implemented over HTTP.\n\n1. Which HTTP method allows the retrieval of objects on the server? What do we mean by saying that it should be side-effect free?  \n2. Which HTTP methods allow the insertion and deletion of objects from the server, respectively?\n3. Which other generic method allows for sending information and/or receiving results?"
        },
        {
            "metadata": {},
            "cell_type": "markdown",
            "source": "## Exercise 3: Storage"
        },
        {
            "metadata": {},
            "cell_type": "markdown",
            "source": "### Object Storage vs Key-Value Storage\n\n1. What is the major common trait of Object Storage and Key-Value Storage?\n2. What are the main differences? In which case is one preferable to the other?"
        },
        {
            "metadata": {},
            "cell_type": "markdown",
            "source": "### Azure Blob Storage vs Amazon S3\n\nFor each question give the answer for both: Azure Blob Storage and Amazon S3\n\n1. How are objects identified?\n2. What kind of objects can you create?"
        },
        {
            "metadata": {},
            "cell_type": "markdown",
            "source": "## Exercise 4: Set up an Azure storage account\n\nIt is comprised of the following steps:\n1. Create a Blob storage.\n3. Test Blob storage by writing to it through Python.\n\n"
        },
        {
            "metadata": {},
            "cell_type": "markdown",
            "source": "\n### Step 1: Create a Locally redundant storage\n\n1. First, you need to create a storage account. To do that, go to \"Storage accounts\" in the left menu. Click on \"Add\" at the top of the blade and fill out the following form. Choose the \"exercise01\" resource group or create a new one, select \"Locally redundant storage (LRS)\" as replication mode, and let all other values at their defaults.\n\n2. Open the new storage account (you may need to wait a while before it has been created), go to \"Access keys\" (under \"Settings\") and copy one of its keys to the clipboard.\n![Image of Account](https://ethbigdata2017.blob.core.windows.net/exercise01assets/accountkey.png)\n\n3. Paste the key, the account name, and some container name into the following cell and run the cell."
        },
        {
            "metadata": {
                "trusted": false
            },
            "cell_type": "code",
            "source": "# use the credentials from your server\n\nACCOUNT_NAME = 'YOUR_STORAGE_ACCOUNT_NAME'\nACCOUNT_KEY  = 'YOUR_KEY'\nCONTAINER_NAME = 'exercise02'",
            "execution_count": null,
            "outputs": []
        },
        {
            "metadata": {},
            "cell_type": "markdown",
            "source": "\n###  Step 2: Install a management library for Azure storage  and import it\n1. Run two cells below for that"
        },
        {
            "metadata": {
                "trusted": false
            },
            "cell_type": "code",
            "source": "# uninstall the old version if present\n!pip uninstall azure-storage\n!pip uninstall azure",
            "execution_count": null,
            "outputs": []
        },
        {
            "metadata": {
                "trusted": false
            },
            "cell_type": "code",
            "source": "# install the proper packages\n!pip install --upgrade requests\n!pip install --upgrade cryptography\n!pip install azure\n!pip install azure-storage-blob",
            "execution_count": null,
            "outputs": []
        },
        {
            "metadata": {
                "trusted": false
            },
            "cell_type": "code",
            "source": "from azure.storage.blob import BlockBlobService\nfrom azure.storage.blob import PageBlobService\nfrom azure.storage.blob import AppendBlobService\nfrom azure.storage.blob import PublicAccess\nfrom azure.storage.blob import ContentSettings\nfrom azure.storage.blob import BlockListType\nfrom azure.storage.blob import BlobBlock",
            "execution_count": null,
            "outputs": []
        },
        {
            "metadata": {},
            "cell_type": "markdown",
            "source": "### Step 3: Explore Concepts of Azure Blob Storage"
        },
        {
            "metadata": {},
            "cell_type": "markdown",
            "source": "1. A container provides a grouping of a set of blobs. All blobs must be in a container. An account can contain an unlimited number of containers. A container can store an unlimited number of blobs. Note that the container name must be lowercase.\n![Image of blob](https://docs.microsoft.com/en-us/azure/includes/media/storage-blob-concepts-include/blob1.png)"
        },
        {
            "metadata": {},
            "cell_type": "markdown",
            "source": "Block blobs let you upload large files to Azure Blob Storage. The maximum size of a block blob is about 195 GB.\n"
        },
        {
            "metadata": {
                "trusted": false
            },
            "cell_type": "code",
            "source": "blob_service = BlockBlobService(account_name=ACCOUNT_NAME, account_key=ACCOUNT_KEY)",
            "execution_count": null,
            "outputs": []
        },
        {
            "metadata": {},
            "cell_type": "markdown",
            "source": "You can learn more about Python package for Azure Blob storage ([git_repo](https://github.com/Azure/azure-storage-python), [tutorial](https://docs.microsoft.com/en-us/azure/storage/blobs/storage-quickstart-blobs-python))"
        },
        {
            "metadata": {},
            "cell_type": "markdown",
            "source": "### Step 4: Test your first container"
        },
        {
            "metadata": {},
            "cell_type": "markdown",
            "source": "\n\n&nbsp;&nbsp;&nbsp; 1\\. Now we need to create a new container under the specified account. If the container with the same name already exists, the operation fails and returns False"
        },
        {
            "metadata": {
                "trusted": false
            },
            "cell_type": "code",
            "source": "status = blob_service.create_container(CONTAINER_NAME)\n#status = blob_service.create_container(CONTAINER_NAME, \n#         public_access=PublicAccess.Container) #create the server with public access\nif status==True:\n    print(\"We created a new container\")\nelse:\n    print(\"Container already exists\")",
            "execution_count": null,
            "outputs": []
        },
        {
            "metadata": {},
            "cell_type": "markdown",
            "source": "### Step 4.1: Debug\n\n**TL;DR You might encounter a bug with some package, if you are already familiar with debugging you can just go to solution 1 and fix it.**\n\nDid you get an ugly error?  \nLet's try to debug it together!  \n\nIn Python when something goes wrong an exception is thrown.  \nIf the programmer predicts that this might happen, a solution or a workaround can be implemented to fix the issue (this is called \"catching an exception\").  \nIf the program is not able to deal with this unexpected situation, it will stop and print a traceback of the exception, so we can usually find which point of the code caused the exception.  \nAt the very bottom of it we can find the exception name and usually a small string describing the problem.\n\nIn our case we should have something like  \n`AzureException: Could not find a suitable TLS CA certificate bundle, invalid path: /home/nbuser/anaconda3_420/lib/python3.5/site-packages/requests/cacert.pem`\n\nSo basically something somewhere is not finding something else.\n\nNow what to do?  \n1) Go bother the computer scientist in your company (or your nerdy friend) and ask for his help **nice option :)**  \n2) Google the error, find people that had the same or similar problem (stack overflow is your best friend) and come up with a solution **computer scientist option :(**\n\nOnly for today we'll try the **computer scientist option :(**\n\nIf we google the first part of the error string we can find a Stack Overflow post with an explanation [here](https://stackoverflow.com/questions/46119901/python-requests-cant-find-a-folder-with-a-certificate-when-converted-to-exe).  \nThis might be promising, so we go back to our traceback to see if it make sense.\n\n`~/anaconda3_420/lib/python3.5/site-packages/requests/adapters.py in cert_verify(self, conn, url, verify, cert)\n    224                 cert_loc = extract_zipped_paths(DEFAULT_CA_BUNDLE_PATH)\n--> 225 `\n\nWe see that this might actually be exactly our problem.  \nApparently a required file saved under the DEFAULT_CA_BUNDLE_PATH path is missing because of some bug.  \nCombining the solution we can deduct where our wanted file is and tell it to the program."
        },
        {
            "metadata": {},
            "cell_type": "markdown",
            "source": "**Solution 1**  \n\nWe can copy the missing file into the right location:\n    \n1. Go to the start page of your Azure Notebooks project (the one from which you can upload and open the notebooks)  \n2. Click on \"Terminal\" in the top right part of the page  \n3. This will open a bash terminal on the virtual machine in which your notebook is running  \n4. From the previous error string and the Stack Overflow post we can find that the missing file is `cacert.pem`  \n5. Move to the site-packages folder with `cd anaconda3_420/lib/python3.5/site-packages`  \n6. Copy the file from its current location to the required one with `cp certifi/cacert.pem requests`  \n7. Try again the following code"
        },
        {
            "metadata": {},
            "cell_type": "markdown",
            "source": "**Solution 2**\n\nSometimes it may happen that you don't have the permission to see or move around a file in the terminal, so you can modify the path used by the module using Python code as shown in the first solution on Stack Overflow. Feel free to try out this solution as well.  \nThe required absolute path is something similar to `/home/nbuser/anaconda3_420/lib/python3.5/site-packages/certifi/cacert.pem`."
        },
        {
            "metadata": {},
            "cell_type": "markdown",
            "source": "### Step 4.2: Test your first container again"
        },
        {
            "metadata": {},
            "cell_type": "markdown",
            "source": "\n\n&nbsp;&nbsp;&nbsp; 1\\. Now we need to create a new container under the specified account. If the container with the same name already exists, the operation fails and returns False"
        },
        {
            "metadata": {
                "trusted": false
            },
            "cell_type": "code",
            "source": "status = blob_service.create_container(CONTAINER_NAME)\n#status = blob_service.create_container(CONTAINER_NAME, \n#         public_access=PublicAccess.Container) #create the server with public access\nif status==True:\n    print(\"We created a new container\")\nelse:\n    print(\"Container already exists\")",
            "execution_count": null,
            "outputs": []
        },
        {
            "metadata": {},
            "cell_type": "markdown",
            "source": "&nbsp;&nbsp;&nbsp; 2\\. Download a file to your Jupyter's virtual machine."
        },
        {
            "metadata": {
                "trusted": false
            },
            "cell_type": "code",
            "source": "!wget https://www.vetbabble.com/wp-content/uploads/2016/11/hiding-cat.jpg -O cat.jpg",
            "execution_count": null,
            "outputs": []
        },
        {
            "metadata": {},
            "cell_type": "markdown",
            "source": "&nbsp;&nbsp;&nbsp; 3\\. Finally, upload the file to the blob storage\n\nNote: The name of the file on local machine can differ from the name of the blob\n"
        },
        {
            "metadata": {
                "trusted": false
            },
            "cell_type": "code",
            "source": "local_file = \"cat.jpg\"\n\nblob_name = \"picture.jpg\"\ntry:\n    blob_service.create_blob_from_path(\n        CONTAINER_NAME,\n        blob_name,\n        local_file,\n        content_settings=ContentSettings(content_type='image/jpg')\n    )\n    \n    print(blob_service.make_blob_url(CONTAINER_NAME,blob_name))\nexcept:\n    print (\"something wrong happened when uploading the data %s\"%blob_name)\n",
            "execution_count": null,
            "outputs": []
        },
        {
            "metadata": {},
            "cell_type": "markdown",
            "source": "Let's also update a text file for later"
        },
        {
            "metadata": {
                "trusted": false
            },
            "cell_type": "code",
            "source": "%%bash\necho \"Please don't use java\" > test.txt\ncat test.txt",
            "execution_count": null,
            "outputs": []
        },
        {
            "metadata": {
                "trusted": false
            },
            "cell_type": "code",
            "source": "local_file = \"test.txt\"\nblob_name = \"test_file.txt\"\ntry:\n    blob_service.create_blob_from_path(\n        CONTAINER_NAME,\n        blob_name,\n        local_file,\n        content_settings=ContentSettings(content_type='text/plain;charset=UTF-8')\n    )\n\n    print(blob_service.make_blob_url(CONTAINER_NAME,blob_name))\nexcept:\n    print (\"something wrong happened when uploading the data %s\"%blob_name)",
            "execution_count": null,
            "outputs": []
        },
        {
            "metadata": {},
            "cell_type": "markdown",
            "source": "&nbsp;&nbsp;&nbsp; 4\\. Try to open the link above\n\nBy default, the new container is private, so you must specify your storage access key (as you did earlier) to download blobs from this container. If you want to make the blobs within the container available to everyone, you can create the container and pass the public access level using the following code.\n"
        },
        {
            "metadata": {
                "trusted": false
            },
            "cell_type": "code",
            "source": "blob_service.set_container_acl(CONTAINER_NAME, public_access=PublicAccess.Container)",
            "execution_count": null,
            "outputs": []
        },
        {
            "metadata": {},
            "cell_type": "markdown",
            "source": "&nbsp;&nbsp;&nbsp; 5\\. After this change, anyone on the Internet can see blobs in a public container, but only you can modify or delete them.\nNow, try to open the link again (It takes few seconds to change access permisions)"
        },
        {
            "metadata": {},
            "cell_type": "markdown",
            "source": "&nbsp;&nbsp;&nbsp; 6\\. List all blobs in the container"
        },
        {
            "metadata": {},
            "cell_type": "markdown",
            "source": "To list the blobs in a container, use the list_blobs method. This method returns a generator. The following code outputs name, type, size and url of each blob in a container"
        },
        {
            "metadata": {
                "scrolled": true,
                "trusted": false
            },
            "cell_type": "code",
            "source": "# List all blobs in the container\nblobs = blob_service.list_blobs(CONTAINER_NAME)\nfor blob in blobs:\n    try:\n        print('Name: {} \\t\\t Type: {} \\t\\t Size: {}'.format(blob.name,blob.properties.blob_type, blob.properties.content_length)) \n        print(blob_service.make_blob_url(CONTAINER_NAME,blob.name)) #We can also print the url of a blob\n    except:\n        print(\"something went wrong\")",
            "execution_count": null,
            "outputs": []
        },
        {
            "metadata": {},
            "cell_type": "markdown",
            "source": "&nbsp;&nbsp;&nbsp; 7\\. List all containers in your storage"
        },
        {
            "metadata": {},
            "cell_type": "markdown",
            "source": "Similarly, you can list all containers in your account"
        },
        {
            "metadata": {
                "trusted": false
            },
            "cell_type": "code",
            "source": "# List all containers in your storage\ncontainers = blob_service.list_containers()\nfor container in containers:\n    try:\n        print(container.name)\n    except:\n        print(\"something went wrong\")",
            "execution_count": null,
            "outputs": []
        },
        {
            "metadata": {},
            "cell_type": "markdown",
            "source": "&nbsp;&nbsp;&nbsp; 8\\. Download blobs\n\nTo download data from a blob, use get_blob_to_path, get_blob_to_stream, get_blob_to_bytes, or get_blob_to_text. They are high-level methods that perform the necessary chunking when the size of the data exceeds 64 MB.\n\nNote: The Name of a file after downloading can differ from the name of a blob\n\nThe following example demonstrates using get_blob_to_path to download the content of your container and store it with names file_i where i is a sequential index."
        },
        {
            "metadata": {
                "scrolled": true,
                "trusted": false
            },
            "cell_type": "code",
            "source": "LOCAL_DIRECT = \"./\"   \n\nblobs = blob_service.list_blobs(CONTAINER_NAME)\ni=0\nfor blob in blobs:\n    local_file = LOCAL_DIRECT + 'file_{}'.format(str(i))\n    i=i+1\n    try:\n        blob_service.get_blob_to_path(CONTAINER_NAME, blob.name, local_file)\n        print(\"success for %s\"%local_file)\n    except:\n        print(\"something went wrong with the blob: %s\"%blob.name)",
            "execution_count": null,
            "outputs": []
        },
        {
            "metadata": {
                "trusted": false
            },
            "cell_type": "code",
            "source": "!ls",
            "execution_count": null,
            "outputs": []
        },
        {
            "metadata": {},
            "cell_type": "markdown",
            "source": "&nbsp;&nbsp;&nbsp; 9\\. Delete blobs\n"
        },
        {
            "metadata": {},
            "cell_type": "markdown",
            "source": "Finally, to delete a blob, we can use the method __delete_blob__."
        },
        {
            "metadata": {
                "trusted": false
            },
            "cell_type": "code",
            "source": "#Delete all blobs in the container\nblobs = blob_service.list_blobs(CONTAINER_NAME)\nfor blob in blobs:      \n    try:\n        blob_service.delete_blob(CONTAINER_NAME, blob.name)\n        print(\"deleted  correctly : %s\"%blob.name)\n    except:\n        print(\"something went wrong with the blob: %s\"%blob.name)",
            "execution_count": null,
            "outputs": []
        },
        {
            "metadata": {},
            "cell_type": "markdown",
            "source": "To check whether the container or the blob exists, the method  ```exists ``` can be used. "
        },
        {
            "metadata": {
                "trusted": false
            },
            "cell_type": "code",
            "source": "if (blob_service.exists(CONTAINER_NAME,blob.name)==True):\n     print(\"Blob %s exists\"%blob.name)\nif(blob_service.exists(CONTAINER_NAME)==True):\n    print(\"Container %s exists\"%CONTAINER_NAME)",
            "execution_count": null,
            "outputs": []
        },
        {
            "metadata": {},
            "cell_type": "markdown",
            "source": "## Own exploration\n\n"
        },
        {
            "metadata": {},
            "cell_type": "markdown",
            "source": "## Exercise 5:  Explore the REST API"
        },
        {
            "metadata": {},
            "cell_type": "markdown",
            "source": "REpresentational State Transfer (REST), or RESTful, web services provide interoperability between computer systems on the Internet. REST-compliant web services allow the requesting systems to access and manipulate textual representations of web resources by using a uniform and predefined set of *stateless* operations. \n\nThe most popular operations in REST are GET, POST, PUT, DELETE. A response may be in XML, HTML, JSON, or some other format.\n\nIn this exercise we will use REST online client [ReqBin](https://reqbin.com/). \n \n**URLs** tells the server which resources the client wants to interact with.\n\nThe **method** request tells the server what kind of action the client wants the server to take in.  \n \n**Headers** provide meta-information about a request.\n \nThe request **body** contains the data the client wants to send the server.\n\n\n### Task 1.\n1. Use ReqBin to list all blobs in your container. For this use the following [REST request](https://docs.microsoft.com/en-us/rest/api/storageservices/list-blobs). What does it do? To avoid setting up an authentication you can make your container public.  \n    1. Access your container from all resources > your storage account > \"Blobs\" in the overview tab > your container name\n    2. On the top menu of the tab \"Change access level\" and set for public access level \"Container\"\n2. What is the response format of the request? \n3. Try to perform the following REST requests [Get Blob](https://docs.microsoft.com/en-us/rest/api/storageservices/get-blob), [Get Blob Properties](https://docs.microsoft.com/en-us/rest/api/storageservices/get-blob-properties), [Get Blob Metadata](https://docs.microsoft.com/en-us/rest/api/storageservices/get-blob-metadata) using ReqBin.\n\n"
        }
    ],
    "metadata": {
        "anaconda-cloud": {},
        "kernelspec": {
            "name": "python3",
            "display_name": "Python 3",
            "language": "python"
        },
        "language_info": {
            "mimetype": "text/x-python",
            "nbconvert_exporter": "python",
            "name": "python",
            "pygments_lexer": "ipython3",
            "version": "3.5.4",
            "file_extension": ".py",
            "codemirror_mode": {
                "version": 3,
                "name": "ipython"
            }
        }
    },
    "nbformat": 4,
    "nbformat_minor": 1
}
