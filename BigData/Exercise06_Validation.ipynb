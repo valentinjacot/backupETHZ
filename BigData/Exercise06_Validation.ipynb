{
    "cells": [
        {
            "metadata": {},
            "cell_type": "markdown",
            "source": "# <center>Big Data For Engineers &ndash; Exercises</center>\n## <center>Spring 2019 &ndash; Week 6 &ndash; ETH Zurich</center>\n## <center>XML validation</center>"
        },
        {
            "metadata": {},
            "cell_type": "markdown",
            "source": "\n## 1. XML Data Models &ndash; Information Sets\n\nXML \"Information Set\" provides an abstract representation of an XML document\u2014it can be thought of as a set of rules on how one would draw an XML document on a whiteboard.\n\n\nDraw the Information Set trees for the following XML documents. You can confine your trees to only have the following types of information items: document information item, elements, character information items, and attributes."
        },
        {
            "metadata": {},
            "cell_type": "markdown",
            "source": "#### Document 1\n\n```xml\n<Burger>\n    <Bun>\n        <Pickles/>\n        <Cheese origin=\"Switzerland\" />\n        <Patty/>\n    </Bun>\n</Burger>\n```"
        },
        {
            "metadata": {},
            "cell_type": "markdown",
            "source": "#### Document 2\n```xml\n<Band name=\"Metallica\">\n    <Member>James Hetfield</Member>\n    <Member>Lars Ulrich</Member>\n    <Member>Kirk Hammett</Member>\n    <Member>Robert Trujillo</Member>\n</Band>\n```"
        },
        {
            "metadata": {},
            "cell_type": "markdown",
            "source": "#### Document 3\n```xml\n<catalog>\n   <!-- A list of books -->\n   <book id='bk101'>\n      <author>Gambardella, Matthew</author>\n      <title>XML Developer's Guide</title>\n      <genre>Computer</genre>\n      <price>44.95</price>\n      <publish_date version='hard' version2='soft'>2000-10-01</publish_date>\n   </book>\n</catalog>\n```"
        },
        {
            "metadata": {},
            "cell_type": "markdown",
            "source": "#### Document 4\n```xml\n<eth:eth xmlns:eth=\"http://www.ethz.ch\" \n         xmlns:ethdb=\"http://www.dbis.ethz.ch\" \n         date=\"11.11.2006\" \n         ethdb:date=\"12.11.2006\">\n   <eth:date>16.11.2017</eth:date>\n   <eth:president since=\"2015\">Prof. Dr. Lino Guzzella</eth:president>\n   <ethdb:Rektor>Prof. Dr. Sarah M. Springman</ethdb:Rektor>\n</eth:eth>\n```"
        },
        {
            "metadata": {},
            "cell_type": "markdown",
            "source": "## 2. Information Sets and Namespaces\n\nFor each of the following XML documents:\n1. Draw its Information Set tree.\n1. Color the element and attribute nodes by namespace using the following table:\n\n| Namespace | Color |\n|----|----|\n| No namespace | Gray |\n| http://example.com/food/fast | Blue |\n| http://example.com/food/vegetables | Green |\n| http://example.com/food/meat | Red |\n\n\n\n#### Document 1\n```xml\n<Pizza>\n    <Topping>\n        <Salami/>\n        <Cheese/>\n        <Oregano/>\n    </Topping>\n</Pizza>\n```"
        },
        {
            "metadata": {},
            "cell_type": "markdown",
            "source": "#### Document 2\n```xml\n<fast:Wrap xmlns:fast=\"http://example.com/food/fast\">\n    <fast:Filling>\n        <fast:Chicken/>\n        <fast:Salad/>\n        <fast:Tomato/>\n    </fast:Filling>\n</fast:Wrap>\n```"
        },
        {
            "metadata": {},
            "cell_type": "markdown",
            "source": "#### Document 3\n```xml\n<ff:Burger xmlns:meat=\"http://example.com/food/meat\"\n           xmlns:veg=\"http://example.com/food/vegetables\"\n           xmlns:ff=\"http://example.com/food/fast\">\n    <ff:Bun remarks=\"gluten-free\">\n        <veg:Tomatoes/>\n        <ff:Patty>\n            <meat:Beef/>\n        </ff:Patty>\n        <veg:Salad/>\n    </ff:Bun>  \n</ff:Burger>\n```"
        },
        {
            "metadata": {},
            "cell_type": "markdown",
            "source": "## 3. XML Data Models &ndash; XDM: XPath and XQuery Data Model\n\nIn this task we will explore some parts of XDM, another XML data model.\n\n3.1. Name a couple of differences between XDM and Information Sets\n\n3.2. Which of the following XDM sequences are equivalent?\n"
        },
        {
            "metadata": {},
            "cell_type": "markdown",
            "source": "1. ```(1, 2, 3, 4, 5, <a/>, <foo><bar/></foo>)```\n \n2. ```(1, (2, 3), 4, (5, <a/>, <foo><bar/></foo>))```\n \n3. ```(1, <foo><bar/></foo>, 2, 3, 4, 5, <a/>)```\n \n4. ```(<a/>)```\n \n5. ```<a/>```\n \n6. ```()```\n \n7. ```(1, 1, 1)```\n\n8. ```((),(),())```\n \n9. ```(1)```"
        },
        {
            "metadata": {},
            "cell_type": "markdown",
            "source": "## 4. XML Schema\n \n*XML Schema* is a way to provide schemas for XML documents, i.e., to describe certain restrictions on the structure and content of XML documents such as, for example, \"`<birthday>` elements should only contain valid dates\".\n\nIn this task we will explore XML Schemas in detail."
        },
        {
            "metadata": {},
            "cell_type": "markdown",
            "source": "To test XML validation, you can either use an online validator like [this one](https://www.freeformatter.com/xml-validator-xsd.html) or use *oXygen* again. When you open an XML Schema in oXygen, you can switch to its graphical representation, by choosing the \"Design\" mode at the bottom of the document pane; \"Text\" mode shows the XML Schema as an XML document."
        },
        {
            "metadata": {},
            "cell_type": "markdown",
            "source": "### 4.0 Episode 0"
        },
        {
            "metadata": {},
            "cell_type": "markdown",
            "source": "Match the following XML documents to XML Schemas that will validate them:\n\n#### Document 1\n```xml\n<happiness xmlns:xsi=\"http://www.w3.org/2001/XMLSchema-instance\"\n     xsi:noNamespaceSchemaLocation=\"Schema.xsd\"/>\n```\n\n#### Document 2\n```xml\n<happiness xmlns:xsi=\"http://www.w3.org/2001/XMLSchema-instance\"\n     xsi:noNamespaceSchemaLocation=\"Schema.xsd\">\n    <health/>\n    <friends/>\n    <family/>\n</happiness>\n```\n\n#### Document 3\n```xml\n<happiness xmlns:xsi=\"http://www.w3.org/2001/XMLSchema-instance\"\n     xsi:noNamespaceSchemaLocation=\"Schema.xsd\">\n    3.141562\n</happiness>\n```\n\n#### Document 4\n```xml\n<happiness xmlns:xsi=\"http://www.w3.org/2001/XMLSchema-instance\"\n     xsi:noNamespaceSchemaLocation=\"Schema.xsd\">\n    <health value=\"100\"/>\n    <friends/>\n    <family/>\n</happiness>\n```\n\n#### Document 5\n```xml\n<happiness xmlns:xsi=\"http://www.w3.org/2001/XMLSchema-instance\"\n     xsi:noNamespaceSchemaLocation=\"Schema.xsd\">\n    <health/>\n    <friends/>\n    <family/>\n    But perhaps everybody defines it differently...\n</happiness>\n```\n\n______\n\n\n#### Schema 1\n```xml\n<xs:schema xmlns:xs=\"http://www.w3.org/2001/XMLSchema\">\n    <xs:element name=\"happiness\">\n        <xs:complexType>\n            <xs:sequence>\n                <xs:element name=\"health\"/>\n                <xs:element name=\"friends\"/>\n                <xs:element name=\"family\"/>\n            </xs:sequence>\n        </xs:complexType>\n    </xs:element>\n</xs:schema>\n```\n\n#### Schema 2\n```xml\n<xs:schema xmlns:xs=\"http://www.w3.org/2001/XMLSchema\">\n    <xs:element name=\"happiness\">\n        <xs:complexType mixed=\"true\">\n            <xs:sequence>\n                <xs:element name=\"health\"/>\n                <xs:element name=\"friends\"/>\n                <xs:element name=\"family\"/>\n            </xs:sequence>\n        </xs:complexType>\n    </xs:element>\n</xs:schema>\n```\n\n#### Schema 3\n```xml\n<xs:schema xmlns:xs=\"http://www.w3.org/2001/XMLSchema\">\n    <xs:element name=\"happiness\" type=\"xs:decimal\"/>\n</xs:schema>\n```\n\n#### Schema 4\n```xml\n<xs:schema xmlns:xs=\"http://www.w3.org/2001/XMLSchema\">\n    <xs:element name=\"happiness\">\n        <xs:complexType>\n            <xs:sequence/>\n        </xs:complexType>\n    </xs:element>\n</xs:schema>\n```\n\n#### Schema 5\n```xml\n<xs:schema xmlns:xs=\"http://www.w3.org/2001/XMLSchema\">\n    <xs:element name=\"happiness\">\n        <xs:complexType>\n            <xs:sequence>\n                <xs:element name=\"health\">\n                    <xs:complexType>\n                        <xs:attribute name=\"value\" type=\"xs:integer\" use=\"required\"/>\n                    </xs:complexType>\n                </xs:element>\n                <xs:element name=\"friends\"/>\n                <xs:element name=\"family\"/>\n            </xs:sequence>\n        </xs:complexType>\n    </xs:element>\n</xs:schema>\n```"
        },
        {
            "metadata": {},
            "cell_type": "markdown",
            "source": "### 4.1 Episode 1\n\nThe [Great Language Game](http://greatlanguagegame.com/) was a game in which you are given a voice clip to listen, and you are asked to identify the language in which the person was speaking. It was a multiple-choice question&ndash;you make your choice out of several alternatives. The game is closed now, unfortunately ;( But, we can still use their datasets for our exercises!\n\nThe following XML document presents a user's attempt at answering a single question in the game: it contains the identifier of the voice clip, the choices presented to the player, and the player's response.\nProvide an XML Schema which will validate this document (use oXygen to help you):"
        },
        {
            "metadata": {},
            "cell_type": "markdown",
            "source": "```xml\n<?xml version=\"1.0\" encoding=\"UTF-8\"?>\n<g:attempt xmlns:g=\"http://www.systems.ethz.ch/GreatLanguageGame\" \n    g:country=\"AU\" g:date=\"2013-08-19\">\n    <g:voiceClip>48f9c924e0d98c959d8a6f1862b3ce9a</g:voiceClip>\n    <g:choices>\n        <g:choice>Maori</g:choice>\n        <g:choice>Mandarin</g:choice>\n        <g:choice>Norwegian</g:choice>\n        <g:choice>Tongan</g:choice>\n    </g:choices>\n    <g:target>Norwegian</g:target>\n    <g:guess>Norwegian</g:guess>\n</g:attempt>\n\n```"
        },
        {
            "metadata": {},
            "cell_type": "markdown",
            "source": "### 4.2 Episode 2\nContinuing the topic of the Great Language Game, provide an XML Schema which will validate the following document:"
        },
        {
            "metadata": {},
            "cell_type": "markdown",
            "source": "```xml\n<?xml version=\"1.0\" encoding=\"UTF-8\"?>\n<g:attempts xmlns:g=\"http://www.systems.ethz.ch/GreatLanguageGame\">\n    <g:attempt g:country=\"AU\" g:date=\"2013-08-19\">\n        <g:voiceClip>48f9c924e0d98c959d8a6f1862b3ce9a</g:voiceClip>\n        <g:choices>\n            <g:choice>Maori</g:choice>\n            <g:choice>Mandarin</g:choice>\n            <g:choice>Norwegian</g:choice>\n            <g:choice>Tongan</g:choice>\n        </g:choices>\n        <g:target>Norwegian</g:target>\n        <g:guess>Norwegian</g:guess>\n    </g:attempt>\n    <g:attempt g:country=\"US\" g:date=\"2014-03-01\">\n        <g:voiceClip>5000be64c8cc8f61dda50fca8d77d307</g:voiceClip>\n        <g:choices>\n            <g:choice>Finnish</g:choice>\n            <g:choice>Mandarin</g:choice>\n            <g:choice>Scottish Gaelic</g:choice>\n            <g:choice>Slovak</g:choice>\n            <g:choice>Swedish</g:choice>\n            <g:choice>Thai</g:choice>\n        </g:choices>\n        <g:target>Slovak</g:target>\n        <g:guess>Slovak</g:guess>\n    </g:attempt>\n    <g:attempt g:country=\"US\" g:date=\"2014-03-01\">\n        <g:voiceClip>923c0d6c9e593966e1b6354cc0d794de</g:voiceClip>\n        <g:choices>\n            <g:choice>Hungarian</g:choice>\n            <g:choice>Sinhalese</g:choice>\n            <g:choice>Swahili</g:choice>\n        </g:choices>\n        <g:target>Hungarian</g:target>\n        <g:guess>Sinhalese</g:guess>\n    </g:attempt>\n</g:attempts>\n```"
        },
        {
            "metadata": {},
            "cell_type": "markdown",
            "source": "------\nThis concludes our exercise sheet on XML validation. Thank you for taking your time to go through it!"
        }
    ],
    "metadata": {
        "kernelspec": {
            "name": "python3",
            "display_name": "Python 3",
            "language": "python"
        },
        "language_info": {
            "mimetype": "text/x-python",
            "nbconvert_exporter": "python",
            "name": "python",
            "file_extension": ".py",
            "version": "3.5.4",
            "pygments_lexer": "ipython3",
            "codemirror_mode": {
                "version": 3,
                "name": "ipython"
            }
        }
    },
    "nbformat": 4,
    "nbformat_minor": 1
}
