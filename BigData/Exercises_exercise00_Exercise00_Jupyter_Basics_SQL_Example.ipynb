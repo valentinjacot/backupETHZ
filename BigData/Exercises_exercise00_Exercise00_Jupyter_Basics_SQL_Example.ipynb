{
    "cells": [
        {
            "cell_type": "markdown",
            "metadata": {},
            "source": [
                "# <center>Big Data For Engineers &ndash; Exercises</center>\n",
                "## <center>Spring 2019 &ndash; Week 0 &ndash; ETH Zurich</center>"
            ]
        },
        {
            "cell_type": "markdown",
            "metadata": {},
            "source": [
                "## 1. Jupyter Basics\n",
                "\n",
                "Welcome to this Jupyter notebook. Jupyter is a web-based open-source tool based on Python that allows you to run python (and other types of) code, visualize results and discuss results, and organize everything into notebooks like this one. We use the notebook server on Microsoft Azure, but you can also install your own.\n",
                "A notebook is organized in cells. Cells of this notebook contain Python code (but other cell types exists). To run a cell, select it, then press ctrl+enter. Try it out!"
            ]
        },
        {
            "cell_type": "code",
            "execution_count": null,
            "metadata": {},
            "outputs": [],
            "source": [
                "print(\"Hello World\")"
            ]
        },
        {
            "cell_type": "markdown",
            "metadata": {},
            "source": [
                "By default, the last expression is printed. Like this:"
            ]
        },
        {
            "cell_type": "code",
            "execution_count": null,
            "metadata": {},
            "outputs": [],
            "source": [
                "maxX = 10\n",
                "[x * x for x in range(maxX)]"
            ]
        },
        {
            "cell_type": "markdown",
            "metadata": {},
            "source": [
                "You can also edit the text. Just double-click on a cell. It's made with markdown code. After you are done editing, press ctrl+enter\n",
                "\n",
                "We will do about half of the exercises with Jupyter. You will learn most things as we go. The notebook you are seing is your copy stored on your account (including the output of the cells). Write your answers inline and save regularly. (Also save a copy somewhere else from time to time &ndash; this service is still beta.)\n",
                "\n",
                "### Read more:\n",
                "* [Jupyter](http://jupyter.org/)\n",
                "* [Learn Python](http://www.learnpython.org)\n",
                "* [Python documentation](https://docs.python.org/3/)"
            ]
        },
        {
            "cell_type": "markdown",
            "metadata": {},
            "source": [
                "## 2. Bash Scripts\n",
                "\n",
                "Code blocks by default are executed using a python interpreter (for a python notebook, such as this one).\n",
                "\n",
                "Other languages can be used with annotations.\n",
                "For instance, a code block can be converted into a bash code block using ```%%bash``` at the beginning:\n"
            ]
        },
        {
            "cell_type": "code",
            "execution_count": null,
            "metadata": {},
            "outputs": [],
            "source": [
                "%%bash\n",
                "echo \"Test File\" > test_file\n",
                "cat test_file"
            ]
        },
        {
            "cell_type": "markdown",
            "metadata": {},
            "source": [
                "Note: do not expect files you write into this file system to be durable. The sandboxed environment may be reset and data lost when notebook is closed. The notebook files themselves are durable though."
            ]
        },
        {
            "cell_type": "markdown",
            "metadata": {},
            "source": [
                "Bash commands can be also inlined using exclamation mark (```!```) infront of the bash line"
            ]
        },
        {
            "cell_type": "code",
            "execution_count": null,
            "metadata": {},
            "outputs": [],
            "source": [
                "print(\"First I modify the file.\")\n",
                "\n",
                "!echo \"Hello World\" > test_file\n",
                "\n",
                "print(\"Then I check its content:\")\n",
                "print()\n",
                "\n",
                "!cat test_file"
            ]
        },
        {
            "cell_type": "markdown",
            "metadata": {},
            "source": [
                "## 3. Extensions\n",
                "\n",
                "As part of this course you will use Jupyter to interact with various systems and interfaces (e.g. SQL, Map Reduce, Spark). To use these, you will need to install certain Python and Jupyter extensions. Note, that as like the file system the extensions will not be durable and need to be rerun when the notebook server is restarted.\n",
                "\n",
                "#### 3.1. Setting up a SQL connection\n",
                "\n",
                "As part of preparation for the next week's exercise, let's setup a connection to a sample relational database (hosted from this course's Azure account)\n",
                "\n",
                "First set the access variables (make sure you execute the next code block by running ctrl+enter)\n"
            ]
        },
        {
            "cell_type": "code",
            "execution_count": null,
            "metadata": {},
            "outputs": [],
            "source": [
                "server='ethbigdata2017.database.windows.net'\n",
                "user='student@ethbigdata2017'\n",
                "password='BigData17'\n",
                "database='beer.stackexchange.com'"
            ]
        },
        {
            "cell_type": "markdown",
            "metadata": {},
            "source": [
                "Next, install the [PyMSSQL](http://www.pymssql.org) python package. Run the following cell and make sure that the output confirms that the installation was successfull."
            ]
        },
        {
            "cell_type": "code",
            "execution_count": null,
            "metadata": {},
            "outputs": [],
            "source": [
                "!pip install pymssql==2.1.2"
            ]
        },
        {
            "cell_type": "markdown",
            "metadata": {},
            "source": [
                "#### 3.2. Running a SQL Query\n",
                "Then we run a first query against our server (following [this tutorial](https://msdn.microsoft.com/library/mt715796.aspx?f=255&MSPPError=-2147217396) from the Azure website). Make sure that running the following cell successfully prints some rows."
            ]
        },
        {
            "cell_type": "code",
            "execution_count": null,
            "metadata": {},
            "outputs": [],
            "source": [
                "import pymssql\n",
                "import os\n",
                "\n",
                "os.environ['TDSVER'] = '7.3'\n",
                "\n",
                "conn = pymssql.connect(server=server, user=user,\n",
                "                       password=password, database=database)\n",
                "cursor = conn.cursor(as_dict=True)\n",
                "\n",
                "cursor.execute('SELECT TOP 10 Id, DisplayName FROM Users ORDER BY Id')\n",
                "\n",
                "row = cursor.fetchone()\n",
                "while row:\n",
                "    print(row)\n",
                "    row = cursor.fetchone()"
            ]
        },
        {
            "cell_type": "markdown",
            "metadata": {},
            "source": [
                "#### 3.3. Inlining SQL \n",
                "It is also possible to inline SQL code. To do this install the following Jupyter extension:"
            ]
        },
        {
            "cell_type": "code",
            "execution_count": null,
            "metadata": {},
            "outputs": [],
            "source": [
                "!git clone https://github.com/catherinedevlin/ipython-sql.git; \\\n",
                "cd ipython-sql && LC_CTYPE=\"C.UTF-8\" python setup.py -q install"
            ]
        },
        {
            "cell_type": "markdown",
            "metadata": {},
            "source": [
                "> <span style=\"color:red;\">**At this point, we need to restart the notebook kernel!**</span>\n",
                "\n",
                "To do that, go to *Kernel* in the menu at the top, then click on *Restart*. You need to run the cell with the connection details again after that.\n",
                "\n",
                "We can now load the extension and establish a connection to our database from above. Run the following cell and make sure the output says *\"Connected: &lt;connection string&gt;\"*."
            ]
        },
        {
            "cell_type": "code",
            "execution_count": null,
            "metadata": {},
            "outputs": [],
            "source": [
                "%load_ext sql\n",
                "connection_string = 'mssql+pymssql://{user}:{password}@{server}:1433/{database}'.format(\n",
                "        server=server, user=user, password=password, database=database)\n",
                "print(connection_string)\n",
                "%sql $connection_string"
            ]
        },
        {
            "cell_type": "markdown",
            "metadata": {},
            "source": [
                "Now we can use the ```%sql``` and ```%%sql``` magic words to run SQL directly. ```%%sql``` makes a cell a SQL cell. A SQL cell can run an arbitrary number of SQL statements and displays the result of the last one of them."
            ]
        },
        {
            "cell_type": "code",
            "execution_count": null,
            "metadata": {},
            "outputs": [],
            "source": [
                "%%sql \n",
                "SELECT TOP 10 Id, DisplayName FROM Users ORDER BY Id"
            ]
        },
        {
            "cell_type": "markdown",
            "metadata": {},
            "source": [
                "The ```%sql``` magic words lets us run SQL statements in a regular cell. Again, the result of the last statement is displayed."
            ]
        },
        {
            "cell_type": "code",
            "execution_count": null,
            "metadata": {},
            "outputs": [],
            "source": [
                "print(\"Run a query!\")\n",
                "%sql SELECT TOP 10 Id, DisplayName FROM Users ORDER BY Id;"
            ]
        },
        {
            "cell_type": "markdown",
            "metadata": {},
            "source": [
                "#### 3.4. Plotting results\n",
                "Matplotlib can also be used to plot results. Next is a plot of a sample query that finds the number of created users per year."
            ]
        },
        {
            "cell_type": "code",
            "execution_count": null,
            "metadata": {
                "scrolled": true
            },
            "outputs": [],
            "source": [
                "%matplotlib inline\n",
                "import matplotlib.pyplot as plt\n",
                "\n",
                "result = %sql SELECT YEAR(CreationDate) as CreationYear, COUNT(*) as YearCount \\\n",
                "                FROM Users \\\n",
                "                GROUP BY YEAR(CreationDate) \\\n",
                "                ORDER BY YEAR(CreationDate) ASC;\n",
                "            \n",
                "# Print the result in tabular form\n",
                "print(result)\n",
                "            \n",
                "# Convert the result to a Pandas data frame\n",
                "df = result.DataFrame()\n",
                "\n",
                "# Extract x and y values for a plot\n",
                "x = df['CreationYear'].tolist()\n",
                "y = df['YearCount'].tolist()\n",
                "\n",
                "# Plot the distribution of registrations per year\n",
                "fig, ax = plt.subplots()\n",
                "ax.bar(range(len(df.index)), y, tick_label=[int(i) for i in x], align='center')\n",
                "ax.set_xlabel('Creation Year')\n",
                "ax.set_ylabel('Number of Users')"
            ]
        }
    ],
    "metadata": {
        "kernelspec": {
            "display_name": "Python 3",
            "language": "python",
            "name": "python3"
        },
        "language_info": {
            "codemirror_mode": {
                "name": "ipython",
                "version": 3
            },
            "file_extension": ".py",
            "mimetype": "text/x-python",
            "name": "python",
            "nbconvert_exporter": "python",
            "pygments_lexer": "ipython3",
            "version": "3.6.5"
        }
    },
    "nbformat": 4,
    "nbformat_minor": 1
}
